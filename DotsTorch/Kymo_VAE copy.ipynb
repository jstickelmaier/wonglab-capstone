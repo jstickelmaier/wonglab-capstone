{
 "cells": [
  {
   "attachments": {},
   "cell_type": "markdown",
   "metadata": {},
   "source": [
    "# VAE\n",
    "Based off of Alexander Van de Kleut's work. See [this post](https://avandekleut.github.io/vae/) for some theory and explination."
   ]
  },
  {
   "attachments": {},
   "cell_type": "markdown",
   "metadata": {},
   "source": [
    "## Checklist\n",
    "- ~~check your data: make sure the experimental data is not normalized (know expected ranges, it is for sure centered at zero).~~ **Range is `-0.3192:1.1109`\n",
    "- ~~make artificial data more similar to experimental (match the same range)~~\n",
    "- loss function values: if we see large numbers not going to zero, double check where the value is coming from (autoencode single example and compare to OG)\n",
    "    - if you cannot get low loss no matter what, check if you need to add more layers, latent dimensions...\n",
    "    - should expect good reconstruction capabilities\n",
    "    - ~~if actually -1 to 1 (check w loop) constrain output with tanh:~~ Not actually -1:1\n",
    "    - separate loss function (call within forward)\n",
    "- ~~in artificial data, subtract the mean (of individual image) and subtract from the entire guy~~"
   ]
  },
  {
   "cell_type": "code",
   "execution_count": 8,
   "metadata": {},
   "outputs": [],
   "source": [
    "import torch; torch.manual_seed(0)\n",
    "import json\n",
    "import torch.nn as nn\n",
    "import torch.nn.functional as F\n",
    "from torch.utils.data import Dataset\n",
    "import torch.distributions\n",
    "import numpy as np\n",
    "import matplotlib.pyplot as plt;\n",
    "import time\n",
    "\n",
    "device = 'cuda' if torch.cuda.is_available() else 'cpu'"
   ]
  },
  {
   "cell_type": "code",
   "execution_count": 9,
   "metadata": {},
   "outputs": [],
   "source": [
    "### Paths ###\n",
    "\n",
    "parent_folder = 'C:/Users/Aidan/Documents/Winter_2023/BE177B/Code/'\n",
    "parent_folder1 = '/Users/jamiestickelmaier/Documents/Capstone/' \n",
    "art_json = parent_folder + 'wonglab-capstone/Datateam/Artificial_imset/artificial_kymographs.json'\n",
    "exp_json = parent_folder + 'wonglab-capstone/Datateam/imset1/experimental_kymograph.json'\n",
    "models_folder = parent_folder + 'wonglab-capstone/DotsTorch/Trained_models/'\n",
    "\n",
    "class ArtKymoDataset(Dataset):\n",
    "    def __init__(self):\n",
    "        # Data loading\n",
    "        with open(art_json, 'r') as f:\n",
    "            kymos = np.asarray(json.loads(f.read())[\"kymoset\"])\n",
    "        kymos = kymos.astype('float32')\n",
    "        # Mean centering to match artificial data\n",
    "        for i, kymo in enumerate(kymos):\n",
    "            kymo = np.divide(kymo,np.mean(kymo))\n",
    "            kymos[i] = kymo\n",
    "        kymos = torch.from_numpy(kymos)\n",
    "        self.x = kymos\n",
    "        self.x = self.x[:,None,:,:]\n",
    "        self.n_samples = kymos.shape[0]\n",
    "\n",
    "    def __getitem__(self, index):\n",
    "        return self.x[index,:,:]\n",
    "\n",
    "    def __len__(self):\n",
    "        return self.n_samples\n",
    "\n",
    "class ExpKymoDataset(Dataset):\n",
    "    def __init__(self):\n",
    "        #data loading\n",
    "        with open(exp_json, 'r') as f:\n",
    "            kymos = np.asarray(json.loads(f.read()))\n",
    "        kymos = kymos.astype('float32')\n",
    "        self.x = torch.from_numpy(kymos)\n",
    "        self.n_samples = kymos.shape[2]\n",
    "\n",
    "    def __getitem__(self, index):\n",
    "        return self.x[:,:,index]\n",
    "\n",
    "    def __len__(self):\n",
    "        return self.n_samples"
   ]
  },
  {
   "attachments": {},
   "cell_type": "markdown",
   "metadata": {},
   "source": [
    "## Convolutional VAE 3.0"
   ]
  },
  {
   "cell_type": "code",
   "execution_count": 12,
   "metadata": {},
   "outputs": [],
   "source": [
    "\n",
    "class Encoder(nn.Module): #we must define our encoder as a subclass of the provided PyTorch neural network\n",
    "    \n",
    "    def __init__(self, input_dim, hidden_dim, latent_dim):\n",
    "        super(Encoder, self).__init__()\n",
    "\n",
    "        self.FC_input = nn.Linear(input_dim, hidden_dim)\n",
    "        self.FC_input2 = nn.Linear(hidden_dim, hidden_dim)\n",
    "        self.FC_mean  = nn.Linear(hidden_dim, latent_dim)\n",
    "        self.FC_var   = nn.Linear (hidden_dim, latent_dim)\n",
    "        \n",
    "        self.LeakyReLU = nn.LeakyReLU(0.2)\n",
    "        \n",
    "        self.training = True\n",
    "        \n",
    "    def forward(self, x):\n",
    "        h_       = self.LeakyReLU(self.FC_input(x))\n",
    "        h_       = self.LeakyReLU(self.FC_input2(h_))\n",
    "        mean     = self.FC_mean(h_)\n",
    "        log_var  = self.FC_var(h_)                     # encoder produces mean and log of variance \n",
    "                                                       #             (i.e., parateters of simple tractable normal distribution \"q\"\n",
    "        \n",
    "        return mean, log_var\n",
    "\n",
    "class Decoder(nn.Module):\n",
    "    def __init__(self, latent_dim, hidden_dim, output_dim):\n",
    "        super(Decoder, self).__init__()\n",
    "        self.FC_hidden = nn.Linear(latent_dim, hidden_dim)\n",
    "        self.FC_hidden2 = nn.Linear(hidden_dim, hidden_dim)\n",
    "        self.FC_output = nn.Linear(hidden_dim, output_dim)\n",
    "        \n",
    "        self.LeakyReLU = nn.LeakyReLU(0.2)\n",
    "        \n",
    "    def forward(self, x):\n",
    "        h     = self.LeakyReLU(self.FC_hidden(x))\n",
    "        h     = self.LeakyReLU(self.FC_hidden2(h))\n",
    "        \n",
    "        x_hat = torch.sigmoid(self.FC_output(h))\n",
    "        return x_hat\n",
    "\n",
    "class Model(nn.Module):\n",
    "    def __init__(self, Encoder, Decoder):\n",
    "        super(Model, self).__init__()\n",
    "        self.Encoder = Encoder\n",
    "        self.Decoder = Decoder\n",
    "        \n",
    "    def reparameterization(self, mean, var):\n",
    "        epsilon = torch.randn_like(var).to(device)        # sampling epsilon        \n",
    "        z = mean + var*epsilon                          # reparameterization trick\n",
    "        return z\n",
    "                \n",
    "    def forward(self, x):\n",
    "        mean, log_var = self.Encoder(x)\n",
    "        z = self.reparameterization(mean, torch.exp(0.5 * log_var)) # takes exponential function (log var -> var)\n",
    "        x_hat            = self.Decoder(z)\n",
    "        \n",
    "        return x_hat, mean, log_var\n",
    "\n",
    "encoder = Encoder(input_dim=60, hidden_dim=5000, latent_dim=100)\n",
    "decoder = Decoder(latent_dim=100, hidden_dim =5000, output_dim = 60)\n",
    "\n",
    "model = Model(Encoder=encoder, Decoder=decoder).to(device)\n",
    "\n",
    "from torch.optim import Adam\n",
    "\n",
    "BCE_loss = nn.MSELoss()\n",
    "\n",
    "def loss_function(x, x_hat, mean, log_var):\n",
    "    reproduction_loss = nn.functional.mse_loss(x_hat, x, reduction='mean')\n",
    "    KLD      = - 0.5 * torch.sum(1+ log_var - mean.pow(2) - log_var.exp())\n",
    "\n",
    "    return reproduction_loss + KLD\n",
    "\n",
    "\n",
    "optimizer = Adam(model.parameters(), lr=1e-5)"
   ]
  },
  {
   "attachments": {},
   "cell_type": "markdown",
   "metadata": {},
   "source": [
    "#### VAE Training Loop"
   ]
  },
  {
   "cell_type": "code",
   "execution_count": 14,
   "metadata": {},
   "outputs": [
    {
     "name": "stdout",
     "output_type": "stream",
     "text": [
      "---VAE Training---\n",
      "\tEpoch 1 complete \tAverage Loss: 0.09453762217114368 \tTraining time: 139.08439510000005 \n",
      "\tEpoch 2 complete \tAverage Loss: 0.0805525846282641 \tTraining time: 149.8163561 \n",
      "\tEpoch 3 complete \tAverage Loss: 0.07563466917102536 \tTraining time: 161.55497130000003 \n",
      "\tEpoch 4 complete \tAverage Loss: 0.07308925033236544 \tTraining time: 164.94409889999997 \n",
      "\tEpoch 5 complete \tAverage Loss: 0.07137337489674489 \tTraining time: 7735.655692599999 \n",
      "\tEpoch 6 complete \tAverage Loss: 0.07007937960947554 \tTraining time: 145.37361299999975 \n",
      "\tEpoch 7 complete \tAverage Loss: 0.06901403410360217 \tTraining time: 152.49807259999943 \n",
      "\tEpoch 8 complete \tAverage Loss: 0.0680491186864674 \tTraining time: 153.08308140000008 \n",
      "\tEpoch 9 complete \tAverage Loss: 0.06718823769440253 \tTraining time: 249.51423090000026 \n",
      "\tEpoch 10 complete \tAverage Loss: 0.0663408360692362 \tTraining time: 158.55505409999932 \n",
      "Finish!!\n"
     ]
    }
   ],
   "source": [
    "import time \n",
    "\n",
    "dataset = ArtKymoDataset()\n",
    "\n",
    "print(\"---VAE Training---\")\n",
    "model.train()\n",
    "\n",
    "for epoch in range(10):\n",
    "\n",
    "    startTime = time.perf_counter()\n",
    "    overall_loss = 0\n",
    "    for batch_idx, (x) in enumerate(dataset):\n",
    "        x = x.to(device)\n",
    "\n",
    "        optimizer.zero_grad()\n",
    "\n",
    "        x_hat, mean, log_var = model(x)\n",
    "        loss = loss_function(x, x_hat, mean, log_var)\n",
    "        \n",
    "        overall_loss += loss.item()\n",
    "        \n",
    "        loss.backward()\n",
    "        optimizer.step()\n",
    "    timediff = (time.perf_counter()-startTime)\n",
    "    print(\"\\tEpoch {} complete \\tAverage Loss: {} \\tTraining time: {} \".format(epoch+1, overall_loss / len(dataset), timediff))\n",
    "    \n",
    "print(\"Finish!!\")"
   ]
  },
  {
   "cell_type": "code",
   "execution_count": 15,
   "metadata": {},
   "outputs": [],
   "source": [
    "# plot the first two latent dimensions of the encoded kymographs\n",
    "def plot_latent(autoencoder, data, dims=[0,1], exp_data=None):\n",
    "    assert len(dims) == 2\n",
    "    for i, x in enumerate(data):\n",
    "        z = autoencoder.encoder(x.to(device))\n",
    "        z = z.to('cpu').detach().numpy()\n",
    "        #hacky way to label data\n",
    "        if i < 99:\n",
    "            plt.scatter(z[dims[0]], z[dims[1]], c='k', label = ('sin' if i == 1 else None))\n",
    "        elif i < 199:\n",
    "            plt.scatter(z[dims[0]], z[dims[1]], c='b', label = ('pol' if i == 101 else None), alpha = 0.8)\n",
    "        else:\n",
    "            plt.scatter(z[dims[0]], z[dims[1]], c='g', label = ('rand' if i == 201 else None), alpha = 0.5)\n",
    "\n",
    "    if exp_data != None:\n",
    "        for i, z in enumerate(exp_data):\n",
    "            z.reshape(1,20,60)\n",
    "            z = autoencoder.encoder(x.to(device))\n",
    "            z = z.to('cpu').detach().numpy()\n",
    "            plt.scatter(z[dims[0]], z[dims[1]], c='r', label = ('Experimental' if i == 1 else None), alpha = 0.3)\n",
    "\n",
    "\n",
    "\n",
    "    plt.xlabel('Latent Dim {}'.format(dims[0]))\n",
    "    plt.ylabel('Latent Dim {}'.format(dims[1]))\n",
    "    plt.legend(loc='upper right')\n",
    "    plt.title('Kymograph position in Latent Space')\n",
    "    plt.legend\n",
    "\n",
    "#pick random kymographs to reconstruct and show\n",
    "def plot_sample_im(autoencoder, data):\n",
    "    plt.figure(figsize=(12,5))\n",
    "    for i in range(3):\n",
    "        idz = np.random.randint(i*100,i*100+100)\n",
    "        print(idz)\n",
    "        y = data[idz]\n",
    "        z = autoencoder(data[idz].to(device))\n",
    "        z = z.to('cpu').detach().numpy()\n",
    "        plt.subplot(2,3,i+1)\n",
    "        plt.xlabel('Time')\n",
    "        plt.ylabel('Axis Position')\n",
    "        if i == 1:\n",
    "            plt.title(\"Actual Kymographs\")\n",
    "        plt.imshow(y[0,:,:], cmap='gray')\n",
    "        plt.subplot(2,3,i+4)\n",
    "        plt.xlabel('Time')\n",
    "        plt.ylabel('Axis Position')\n",
    "        if i == 1:\n",
    "            plt.title(\"Reconstructed Kymographs\")\n",
    "        plt.imshow(z[0,0,:,:], cmap='gray')\n",
    "    plt.tight_layout()\n",
    "    plt.show()"
   ]
  },
  {
   "cell_type": "code",
   "execution_count": 17,
   "metadata": {},
   "outputs": [
    {
     "ename": "AttributeError",
     "evalue": "'Model' object has no attribute 'encoder'",
     "output_type": "error",
     "traceback": [
      "\u001b[1;31m---------------------------------------------------------------------------\u001b[0m",
      "\u001b[1;31mAttributeError\u001b[0m                            Traceback (most recent call last)",
      "\u001b[1;32m~\\AppData\\Local\\Temp\\ipykernel_17364\\240228420.py\u001b[0m in \u001b[0;36m<module>\u001b[1;34m\u001b[0m\n\u001b[0;32m      1\u001b[0m \u001b[0mexp_dataset\u001b[0m \u001b[1;33m=\u001b[0m \u001b[0mExpKymoDataset\u001b[0m\u001b[1;33m(\u001b[0m\u001b[1;33m)\u001b[0m\u001b[1;33m\u001b[0m\u001b[1;33m\u001b[0m\u001b[0m\n\u001b[1;32m----> 2\u001b[1;33m \u001b[0mplot_latent\u001b[0m\u001b[1;33m(\u001b[0m\u001b[0mmodel\u001b[0m\u001b[1;33m,\u001b[0m \u001b[0mdataset\u001b[0m\u001b[1;33m,\u001b[0m \u001b[0mdims\u001b[0m\u001b[1;33m=\u001b[0m\u001b[1;33m[\u001b[0m\u001b[1;36m0\u001b[0m\u001b[1;33m,\u001b[0m\u001b[1;36m1\u001b[0m\u001b[1;33m]\u001b[0m\u001b[1;33m,\u001b[0m \u001b[0mexp_data\u001b[0m\u001b[1;33m=\u001b[0m\u001b[0mexp_dataset\u001b[0m\u001b[1;33m)\u001b[0m\u001b[1;33m\u001b[0m\u001b[1;33m\u001b[0m\u001b[0m\n\u001b[0m\u001b[0;32m      3\u001b[0m \u001b[1;33m\u001b[0m\u001b[0m\n\u001b[0;32m      4\u001b[0m \u001b[1;31m# Current model needs more normalization, still large gaps in latent space...\u001b[0m\u001b[1;33m\u001b[0m\u001b[1;33m\u001b[0m\u001b[0m\n\u001b[0;32m      5\u001b[0m \u001b[1;31m# Implement PCA to compress latent_dims for visualization?\u001b[0m\u001b[1;33m\u001b[0m\u001b[1;33m\u001b[0m\u001b[0m\n",
      "\u001b[1;32m~\\AppData\\Local\\Temp\\ipykernel_17364\\818511027.py\u001b[0m in \u001b[0;36mplot_latent\u001b[1;34m(autoencoder, data, dims, exp_data)\u001b[0m\n\u001b[0;32m      3\u001b[0m     \u001b[1;32massert\u001b[0m \u001b[0mlen\u001b[0m\u001b[1;33m(\u001b[0m\u001b[0mdims\u001b[0m\u001b[1;33m)\u001b[0m \u001b[1;33m==\u001b[0m \u001b[1;36m2\u001b[0m\u001b[1;33m\u001b[0m\u001b[1;33m\u001b[0m\u001b[0m\n\u001b[0;32m      4\u001b[0m     \u001b[1;32mfor\u001b[0m \u001b[0mi\u001b[0m\u001b[1;33m,\u001b[0m \u001b[0mx\u001b[0m \u001b[1;32min\u001b[0m \u001b[0menumerate\u001b[0m\u001b[1;33m(\u001b[0m\u001b[0mdata\u001b[0m\u001b[1;33m)\u001b[0m\u001b[1;33m:\u001b[0m\u001b[1;33m\u001b[0m\u001b[1;33m\u001b[0m\u001b[0m\n\u001b[1;32m----> 5\u001b[1;33m         \u001b[0mz\u001b[0m \u001b[1;33m=\u001b[0m \u001b[0mautoencoder\u001b[0m\u001b[1;33m.\u001b[0m\u001b[0mencoder\u001b[0m\u001b[1;33m(\u001b[0m\u001b[0mx\u001b[0m\u001b[1;33m.\u001b[0m\u001b[0mto\u001b[0m\u001b[1;33m(\u001b[0m\u001b[0mdevice\u001b[0m\u001b[1;33m)\u001b[0m\u001b[1;33m)\u001b[0m\u001b[1;33m\u001b[0m\u001b[1;33m\u001b[0m\u001b[0m\n\u001b[0m\u001b[0;32m      6\u001b[0m         \u001b[0mz\u001b[0m \u001b[1;33m=\u001b[0m \u001b[0mz\u001b[0m\u001b[1;33m.\u001b[0m\u001b[0mto\u001b[0m\u001b[1;33m(\u001b[0m\u001b[1;34m'cpu'\u001b[0m\u001b[1;33m)\u001b[0m\u001b[1;33m.\u001b[0m\u001b[0mdetach\u001b[0m\u001b[1;33m(\u001b[0m\u001b[1;33m)\u001b[0m\u001b[1;33m.\u001b[0m\u001b[0mnumpy\u001b[0m\u001b[1;33m(\u001b[0m\u001b[1;33m)\u001b[0m\u001b[1;33m\u001b[0m\u001b[1;33m\u001b[0m\u001b[0m\n\u001b[0;32m      7\u001b[0m         \u001b[1;31m#hacky way to label data\u001b[0m\u001b[1;33m\u001b[0m\u001b[1;33m\u001b[0m\u001b[0m\n",
      "\u001b[1;32mc:\\Users\\Aidan\\anaconda3\\lib\\site-packages\\torch\\nn\\modules\\module.py\u001b[0m in \u001b[0;36m__getattr__\u001b[1;34m(self, name)\u001b[0m\n\u001b[0;32m   1267\u001b[0m             \u001b[1;32mif\u001b[0m \u001b[0mname\u001b[0m \u001b[1;32min\u001b[0m \u001b[0mmodules\u001b[0m\u001b[1;33m:\u001b[0m\u001b[1;33m\u001b[0m\u001b[1;33m\u001b[0m\u001b[0m\n\u001b[0;32m   1268\u001b[0m                 \u001b[1;32mreturn\u001b[0m \u001b[0mmodules\u001b[0m\u001b[1;33m[\u001b[0m\u001b[0mname\u001b[0m\u001b[1;33m]\u001b[0m\u001b[1;33m\u001b[0m\u001b[1;33m\u001b[0m\u001b[0m\n\u001b[1;32m-> 1269\u001b[1;33m         raise AttributeError(\"'{}' object has no attribute '{}'\".format(\n\u001b[0m\u001b[0;32m   1270\u001b[0m             type(self).__name__, name))\n\u001b[0;32m   1271\u001b[0m \u001b[1;33m\u001b[0m\u001b[0m\n",
      "\u001b[1;31mAttributeError\u001b[0m: 'Model' object has no attribute 'encoder'"
     ]
    }
   ],
   "source": [
    "exp_dataset = ExpKymoDataset()\n",
    "plot_latent(model, dataset, dims=[0,1], exp_data=exp_dataset)\n",
    "\n",
    "# Current model needs more normalization, still large gaps in latent space...\n",
    "# Implement PCA to compress latent_dims for visualization?\n",
    "# Also should implement batching if possible, right now we iterate through entire\n",
    "# dataset in the same order, probably leading to wonky reconstructions below as model overfits"
   ]
  },
  {
   "cell_type": "code",
   "execution_count": 42,
   "metadata": {},
   "outputs": [],
   "source": [
    "def show_im(index):\n",
    "    plt.subplot(1,2,1)\n",
    "    plt.imshow(dataset[index].reshape(20,60), cmap='plasma')\n",
    "    plt.subplot(1,2,2)\n",
    "    plt.imshow(model(dataset[index])[0].detach().reshape(20,60).numpy(), cmap='plasma')"
   ]
  },
  {
   "cell_type": "code",
   "execution_count": 46,
   "metadata": {},
   "outputs": [
    {
     "data": {
      "image/png": "[encoded data removed]",
      "text/plain": [
       "<Figure size 640x480 with 2 Axes>"
      ]
     },
     "metadata": {},
     "output_type": "display_data"
    }
   ],
   "source": [
    "show_im(202)"
   ]
  },
  {
   "attachments": {},
   "cell_type": "markdown",
   "metadata": {},
   "source": [
    "We can see that the VAE is not doing a very good job at producing meaningful recondstructions however...\n",
    "This is potentially because it is compressing into at pretty low dimensional latent space, giving it control only over total and relative brightness and some other unclear parameters, hence why all the reconstructed kymos look like scaled copies of one another despite separation in the latent space."
   ]
  },
  {
   "cell_type": "code",
   "execution_count": 16,
   "metadata": {},
   "outputs": [
    {
     "name": "stdout",
     "output_type": "stream",
     "text": [
      "52\n"
     ]
    },
    {
     "ename": "AttributeError",
     "evalue": "'tuple' object has no attribute 'to'",
     "output_type": "error",
     "traceback": [
      "\u001b[1;31m---------------------------------------------------------------------------\u001b[0m",
      "\u001b[1;31mAttributeError\u001b[0m                            Traceback (most recent call last)",
      "\u001b[1;32m~\\AppData\\Local\\Temp\\ipykernel_17364\\2081395730.py\u001b[0m in \u001b[0;36m<module>\u001b[1;34m\u001b[0m\n\u001b[0;32m      1\u001b[0m \u001b[1;31m# Sample reconstructed kymographs\u001b[0m\u001b[1;33m\u001b[0m\u001b[1;33m\u001b[0m\u001b[0m\n\u001b[1;32m----> 2\u001b[1;33m \u001b[0mplot_sample_im\u001b[0m\u001b[1;33m(\u001b[0m\u001b[0mmodel\u001b[0m\u001b[1;33m,\u001b[0m \u001b[0mdataset\u001b[0m\u001b[1;33m)\u001b[0m\u001b[1;33m\u001b[0m\u001b[1;33m\u001b[0m\u001b[0m\n\u001b[0m",
      "\u001b[1;32m~\\AppData\\Local\\Temp\\ipykernel_17364\\818511027.py\u001b[0m in \u001b[0;36mplot_sample_im\u001b[1;34m(autoencoder, data)\u001b[0m\n\u001b[0;32m     36\u001b[0m         \u001b[0my\u001b[0m \u001b[1;33m=\u001b[0m \u001b[0mdata\u001b[0m\u001b[1;33m[\u001b[0m\u001b[0midz\u001b[0m\u001b[1;33m]\u001b[0m\u001b[1;33m\u001b[0m\u001b[1;33m\u001b[0m\u001b[0m\n\u001b[0;32m     37\u001b[0m         \u001b[0mz\u001b[0m \u001b[1;33m=\u001b[0m \u001b[0mautoencoder\u001b[0m\u001b[1;33m(\u001b[0m\u001b[0mdata\u001b[0m\u001b[1;33m[\u001b[0m\u001b[0midz\u001b[0m\u001b[1;33m]\u001b[0m\u001b[1;33m.\u001b[0m\u001b[0mto\u001b[0m\u001b[1;33m(\u001b[0m\u001b[0mdevice\u001b[0m\u001b[1;33m)\u001b[0m\u001b[1;33m)\u001b[0m\u001b[1;33m\u001b[0m\u001b[1;33m\u001b[0m\u001b[0m\n\u001b[1;32m---> 38\u001b[1;33m         \u001b[0mz\u001b[0m \u001b[1;33m=\u001b[0m \u001b[0mz\u001b[0m\u001b[1;33m.\u001b[0m\u001b[0mto\u001b[0m\u001b[1;33m(\u001b[0m\u001b[1;34m'cpu'\u001b[0m\u001b[1;33m)\u001b[0m\u001b[1;33m.\u001b[0m\u001b[0mdetach\u001b[0m\u001b[1;33m(\u001b[0m\u001b[1;33m)\u001b[0m\u001b[1;33m.\u001b[0m\u001b[0mnumpy\u001b[0m\u001b[1;33m(\u001b[0m\u001b[1;33m)\u001b[0m\u001b[1;33m\u001b[0m\u001b[1;33m\u001b[0m\u001b[0m\n\u001b[0m\u001b[0;32m     39\u001b[0m         \u001b[0mplt\u001b[0m\u001b[1;33m.\u001b[0m\u001b[0msubplot\u001b[0m\u001b[1;33m(\u001b[0m\u001b[1;36m2\u001b[0m\u001b[1;33m,\u001b[0m\u001b[1;36m3\u001b[0m\u001b[1;33m,\u001b[0m\u001b[0mi\u001b[0m\u001b[1;33m+\u001b[0m\u001b[1;36m1\u001b[0m\u001b[1;33m)\u001b[0m\u001b[1;33m\u001b[0m\u001b[1;33m\u001b[0m\u001b[0m\n\u001b[0;32m     40\u001b[0m         \u001b[0mplt\u001b[0m\u001b[1;33m.\u001b[0m\u001b[0mxlabel\u001b[0m\u001b[1;33m(\u001b[0m\u001b[1;34m'Time'\u001b[0m\u001b[1;33m)\u001b[0m\u001b[1;33m\u001b[0m\u001b[1;33m\u001b[0m\u001b[0m\n",
      "\u001b[1;31mAttributeError\u001b[0m: 'tuple' object has no attribute 'to'"
     ]
    },
    {
     "data": {
      "text/plain": [
       "<Figure size 1200x500 with 0 Axes>"
      ]
     },
     "metadata": {},
     "output_type": "display_data"
    }
   ],
   "source": [
    "# Sample reconstructed kymographs\n",
    "plot_sample_im(model, dataset)"
   ]
  },
  {
   "attachments": {},
   "cell_type": "markdown",
   "metadata": {},
   "source": [
    "## Save and load models"
   ]
  },
  {
   "cell_type": "markdown",
   "metadata": {},
   "source": [
    "## Save and load models"
   ]
  },
  {
   "attachments": {},
   "cell_type": "markdown",
   "metadata": {},
   "source": [
    "Check actual output from decoder and look at how it compares to the input. Error should not be "
   ]
  },
  {
   "cell_type": "code",
   "execution_count": 115,
   "metadata": {},
   "outputs": [],
   "source": [
    "# Set save_model = True and run cell to save model state\n",
    "save_model = False\n",
    "model_name = 'VAE_2.25.23.pt'\n",
    "\n",
    "if save_model:\n",
    "    torch.save(VAE.state_dict(), models_folder+model_name)"
   ]
  },
  {
   "cell_type": "code",
   "execution_count": null,
   "metadata": {},
   "outputs": [],
   "source": [
    "# Set load_model = True and run cell to save model state\n",
    "load_model = False\n",
    "model_name = 'VAE_3.0.pt'\n",
    "\n",
    "model = Autoencoder(latent_dims=2).to(device)\n",
    "model.load_state_dict(torch.load(models_folder+model_name))\n",
    "model.eval()"
   ]
  }
 ],
 "metadata": {
  "kernelspec": {
   "display_name": "base",
   "language": "python",
   "name": "python3"
  },
  "language_info": {
   "codemirror_mode": {
    "name": "ipython",
    "version": 3
   },
   "file_extension": ".py",
   "mimetype": "text/x-python",
   "name": "python",
   "nbconvert_exporter": "python",
   "pygments_lexer": "ipython3",
   "version": "3.9.13"
  },
  "orig_nbformat": 4,
  "vscode": {
   "interpreter": {
    "hash": "f6ed3f38b1ef4c16f8a5be48bf66a1aded4ea0eb199bbc31dab9e5edd4e77510"
   }
  }
 },
 "nbformat": 4,
 "nbformat_minor": 2
}
