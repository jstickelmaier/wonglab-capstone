{
 "cells": [
  {
   "cell_type": "code",
   "execution_count": null,
   "metadata": {},
   "outputs": [],
   "source": [
    "import seaborn as sns\n",
    "from string import ascii_lowercase\n",
    "import matplotlib\n",
    "#import svgutils.transform as st\n",
    "from matplotlib import gridspec, pyplot as plt\n",
    "\n",
    "\n",
    "matplotlib.rcParams[\"legend.labelspacing\"] = 0.2\n",
    "matplotlib.rcParams[\"legend.fontsize\"] = 8\n",
    "matplotlib.rcParams[\"xtick.major.pad\"] = 1.0\n",
    "matplotlib.rcParams[\"ytick.major.pad\"] = 1.0\n",
    "matplotlib.rcParams[\"xtick.minor.pad\"] = 0.9\n",
    "matplotlib.rcParams[\"ytick.minor.pad\"] = 0.9\n",
    "matplotlib.rcParams[\"legend.handletextpad\"] = 0.5\n",
    "matplotlib.rcParams[\"legend.handlelength\"] = 0.5\n",
    "matplotlib.rcParams[\"legend.framealpha\"] = 0.5\n",
    "matplotlib.rcParams[\"legend.markerscale\"] = 0.7\n",
    "matplotlib.rcParams[\"legend.borderpad\"] = 0.35\n",
    "\n",
    "\n",
    "def getSetup(figsize, gridd, multz=None, empts=None):\n",
    "    \"\"\" Establish figure set-up with subplots. \"\"\"\n",
    "    sns.set(style=\"whitegrid\", font_scale=0.7, color_codes=True, palette=\"colorblind\", rc={\"grid.linestyle\": \"dotted\", \"axes.linewidth\": 0.6})\n",
    "\n",
    "    # create empty list if empts isn't specified\n",
    "    if empts is None:\n",
    "        empts = []\n",
    "\n",
    "    if multz is None:\n",
    "        multz = dict()\n",
    "\n",
    "    # Setup plotting space and grid\n",
    "    f = plt.figure(figsize=figsize, constrained_layout=True)\n",
    "    gs1 = gridspec.GridSpec(*gridd, figure=f)\n",
    "\n",
    "    # Get list of axis objects\n",
    "    x = 0\n",
    "    ax = list()\n",
    "    while x < gridd[0] * gridd[1]:\n",
    "        if x not in empts and x not in multz.keys():  # If this is just a normal subplot\n",
    "            ax.append(f.add_subplot(gs1[x]))\n",
    "        elif x in multz.keys():  # If this is a subplot that spans grid elements\n",
    "            ax.append(f.add_subplot(gs1[x: x + multz[x] + 1]))\n",
    "            x += multz[x]\n",
    "        x += 1\n",
    "\n",
    "    return (ax, f)\n",
    "\n",
    "\n",
    "def subplotLabel(axs):\n",
    "    \"\"\" Place subplot labels on figure. \"\"\"\n",
    "    for ii, ax in enumerate(axs):\n",
    "        ax.text(-0.2, 1.2, ascii_lowercase[ii], transform=ax.transAxes, fontsize=16, fontweight=\"bold\", va=\"top\")"
   ]
  },
  {
   "cell_type": "code",
   "execution_count": null,
   "metadata": {},
   "outputs": [],
   "source": [
    "def new_plot_latent(axis, autoencoder, data, dims=[0,1], exp_data=None):\n",
    "    assert len(dims) == 2\n",
    "    for i, x in enumerate(data):\n",
    "        z = autoencoder.encoder(x.to(device))\n",
    "        z = z.to('cpu').detach().numpy()\n",
    "        #hacky way to label data\n",
    "        if i < 99:\n",
    "            axis.scatter(z[dims[0]], z[dims[1]], c='k', label = ('sin' if i == 1 else None))\n",
    "        elif i < 199:\n",
    "            axis.scatter(z[dims[0]], z[dims[1]], c='b', label = ('pol' if i == 101 else None))\n",
    "        else:\n",
    "            axis.scatter(z[dims[0]], z[dims[1]], c='g', label = ('rand' if i == 201 else None))\n",
    "\n",
    "    if exp_data != None:\n",
    "        for i, x in enumerate(exp_data):\n",
    "            z = autoencoder.encoder(x.to(device))\n",
    "            z = z.to('cpu').detach().numpy()\n",
    "            axis.scatter(z[dims[0]], z[dims[1]], c='r', label = ('Experimental' if i == 1 else None))\n",
    "\n",
    "    axis.set_xlabel('Latent Dim {}'.format(dims[0]))\n",
    "    axis.set_ylabel('Latent Dim {}'.format(dims[1]))\n",
    "    axis.set_title('Kymograph position in Latent Space')\n",
    "    axis.legend"
   ]
  },
  {
   "cell_type": "code",
   "execution_count": null,
   "metadata": {},
   "outputs": [],
   "source": [
    "ax, f = getSetup((8, 5), (2, 2))\n",
    "\n",
    "for i, ax in enumerate(ax):\n",
    "    new_plot_latent(ax, VAE, dataset, dims=[i,i+1])"
   ]
  },
  {
   "cell_type": "code",
   "execution_count": null,
   "metadata": {},
   "outputs": [],
   "source": [
    "ax, f = getSetup((8, 5), (2, 2))\n",
    "\n",
    "for i, ax in enumerate(ax):\n",
    "    new_plot_latent(ax, VAE, dataset, dims=[i,i+2])"
   ]
  }
 ],
 "metadata": {
  "kernelspec": {
   "display_name": "Python 3",
   "language": "python",
   "name": "python3"
  },
  "language_info": {
   "name": "python",
   "version": "3.8.2 (default, Jun  8 2021, 11:59:35) \n[Clang 12.0.5 (clang-1205.0.22.11)]"
  },
  "orig_nbformat": 4,
  "vscode": {
   "interpreter": {
    "hash": "31f2aee4e71d21fbe5cf8b01ff0e069b9275f58929596ceb00d14d90e3e16cd6"
   }
  }
 },
 "nbformat": 4,
 "nbformat_minor": 2
}
