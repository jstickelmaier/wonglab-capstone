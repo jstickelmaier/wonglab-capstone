{
 "cells": [
  {
   "attachments": {},
   "cell_type": "markdown",
   "metadata": {},
   "source": [
    "# VAE attempt 3\n",
    "Based off of Alexander Van de Kleut's work. See [this post](https://avandekleut.github.io/vae/) for some theory and explination."
   ]
  },
  {
   "cell_type": "code",
   "execution_count": 82,
   "metadata": {},
   "outputs": [],
   "source": [
    "import torch; torch.manual_seed(0)\n",
    "import json\n",
    "import torch.nn as nn\n",
    "import torch.nn.functional as F\n",
    "from torch.utils.data import Dataset, DataLoader\n",
    "import torch.distributions\n",
    "import numpy as np\n",
    "import matplotlib.pyplot as plt;\n",
    "import time\n",
    "\n",
    "device = 'cuda' if torch.cuda.is_available() else 'cpu'"
   ]
  },
  {
   "cell_type": "code",
   "execution_count": 83,
   "metadata": {},
   "outputs": [],
   "source": [
    "### Paths ###\n",
    "\n",
    "parent_folder = 'C:/Users/Aidan/Documents/Winter_2023/BE177B/Code/'\n",
    "art_json = parent_folder + 'wonglab-capstone/Datateam/Artificial_imset/artificial_kymographs.json'\n",
    "exp_json = parent_folder + 'wonglab-capstone/Datateam/imset1/experimental_kymograph.json'\n",
    "\n",
    "class ArtKymoDataset(Dataset):\n",
    "    def __init__(self):\n",
    "        #data loading\n",
    "        with open(art_json, 'r') as f:\n",
    "            kymos = np.asarray(json.loads(f.read())[\"kymoset\"])\n",
    "        kymos = kymos.astype('float32')\n",
    "        kymos = torch.from_numpy(kymos)\n",
    "        # self.x = kymos[:,None,:,:]\n",
    "        self.x = kymos\n",
    "        self.x = self.x[:,None,:,:]\n",
    "        self.n_samples = kymos.shape[0]\n",
    "\n",
    "    def __getitem__(self, index):\n",
    "        return self.x[index,:,:]\n",
    "\n",
    "    def __len__(self):\n",
    "        return self.n_samples"
   ]
  },
  {
   "cell_type": "markdown",
   "metadata": {},
   "source": [
    "### Autoencoder architecture, notice this is **NOT** a VAE"
   ]
  },
  {
   "cell_type": "code",
   "execution_count": 104,
   "metadata": {},
   "outputs": [],
   "source": [
    "class Encoder(nn.Module):\n",
    "    def __init__(self, latent_dims):\n",
    "        super(Encoder, self).__init__()\n",
    "        self.linear1 = nn.Linear(1200, 512) # input flattened kymograph\n",
    "        self.linear2 = nn.Linear(512, latent_dims) # squishes into latent space\n",
    "    \n",
    "    def forward(self, x):\n",
    "        x = torch.flatten(x, start_dim = 1) #may have to change start dim if not along right axis, I guessed randomly\n",
    "        x = F.relu(self.linear2(F.relu(self.linear1(x))))\n",
    "        return x\n",
    "\n",
    "class Decoder(nn.Module):\n",
    "    def __init__(self, latent_dims):\n",
    "        super(Decoder, self).__init__()\n",
    "        self.linear1 = nn.Linear(latent_dims, 512)\n",
    "        self.linear2 = nn.Linear(512, 1200)\n",
    "\n",
    "    def forward(self, z):\n",
    "        z = F.relu(self.linear1(z))\n",
    "        z = torch.sigmoid(self.linear2(z))\n",
    "        return z.reshape((-1, 1, 20, 60))\n",
    "\n",
    "class Autoencoder(nn.Module):\n",
    "    def __init__(self, latent_dims):\n",
    "        super(Autoencoder, self).__init__()\n",
    "        self.encoder = Encoder(latent_dims)\n",
    "        self.decoder = Decoder(latent_dims)\n",
    "\n",
    "    def forward(self, x):\n",
    "        z = self.encoder(x)\n",
    "        return self.decoder(z)"
   ]
  },
  {
   "cell_type": "markdown",
   "metadata": {},
   "source": [
    "#### Pretty good training loop, can probably repurpose for VAE as well"
   ]
  },
  {
   "cell_type": "code",
   "execution_count": 105,
   "metadata": {},
   "outputs": [],
   "source": [
    "def train(autoencoder, data, epochs=5):\n",
    "    opt = torch.optim.Adam(autoencoder.parameters())\n",
    "    for epoch in range(epochs):\n",
    "        startTime = time.perf_counter()\n",
    "        overall_loss = 0\n",
    "        for x in data:\n",
    "            x = x.to(device) # GPU\n",
    "            opt.zero_grad()\n",
    "            x_hat = autoencoder(x)\n",
    "            loss = ((x - x_hat)**2).sum()   \n",
    "            loss.backward()\n",
    "            overall_loss += loss.item()\n",
    "            opt.step()\n",
    "        timediff = (time.perf_counter()-startTime)\n",
    "        print(\"\\tEpoch {} complete \\tTotal Loss: {} \\tTraining time: {} \".format(epoch+1, loss, timediff))\n",
    "    return autoencoder"
   ]
  },
  {
   "cell_type": "code",
   "execution_count": 106,
   "metadata": {},
   "outputs": [
    {
     "name": "stdout",
     "output_type": "stream",
     "text": [
      "\tEpoch 1 complete \tTotal Loss: 155038.65625 \tTraining time: 7.156905900000311 \n",
      "\tEpoch 2 complete \tTotal Loss: 155038.65625 \tTraining time: 7.805396699999619 \n",
      "\tEpoch 3 complete \tTotal Loss: 155038.65625 \tTraining time: 10.862655699999777 \n",
      "\tEpoch 4 complete \tTotal Loss: 155038.65625 \tTraining time: 16.711969599999975 \n",
      "\tEpoch 5 complete \tTotal Loss: 155038.65625 \tTraining time: 13.323557300000175 \n"
     ]
    }
   ],
   "source": [
    "dataset = ArtKymoDataset()\n",
    "latent_dims = 10\n",
    "autoencoder = Autoencoder(latent_dims).to(device)\n",
    "autoencoder = train(autoencoder, dataset)"
   ]
  },
  {
   "cell_type": "code",
   "execution_count": null,
   "metadata": {},
   "outputs": [],
   "source": []
  }
 ],
 "metadata": {
  "kernelspec": {
   "display_name": "base",
   "language": "python",
   "name": "python3"
  },
  "language_info": {
   "codemirror_mode": {
    "name": "ipython",
    "version": 3
   },
   "file_extension": ".py",
   "mimetype": "text/x-python",
   "name": "python",
   "nbconvert_exporter": "python",
   "pygments_lexer": "ipython3",
   "version": "3.9.13"
  },
  "orig_nbformat": 4,
  "vscode": {
   "interpreter": {
    "hash": "f6ed3f38b1ef4c16f8a5be48bf66a1aded4ea0eb199bbc31dab9e5edd4e77510"
   }
  }
 },
 "nbformat": 4,
 "nbformat_minor": 2
}
