{
 "cells": [
  {
   "attachments": {},
   "cell_type": "markdown",
   "metadata": {},
   "source": [
    "# VAE attempt 3\n",
    "Based off of Alexander Van de Kleut's work. See [this post](https://avandekleut.github.io/vae/) for some theory and explination."
   ]
  },
  {
   "cell_type": "code",
   "execution_count": 2,
   "metadata": {},
   "outputs": [],
   "source": [
    "import torch; torch.manual_seed(0)\n",
    "import json\n",
    "import torch.nn as nn\n",
    "import torch.nn.functional as F\n",
    "from torch.utils.data import Dataset, DataLoader\n",
    "import torch.distributions\n",
    "import numpy as np\n",
    "import matplotlib.pyplot as plt;\n",
    "import time\n",
    "\n",
    "device = 'cuda' if torch.cuda.is_available() else 'cpu'"
   ]
  },
  {
   "cell_type": "code",
   "execution_count": 3,
   "metadata": {},
   "outputs": [],
   "source": [
    "### Paths ###\n",
    "\n",
    "parent_folder = 'C:/Users/Aidan/Documents/Winter_2023/BE177B/Code/'\n",
    "art_json = parent_folder + 'wonglab-capstone/Datateam/Artificial_imset/artificial_kymographs.json'\n",
    "exp_json = parent_folder + 'wonglab-capstone/Datateam/imset1/experimental_kymograph.json'\n",
    "\n",
    "class ArtKymoDataset(Dataset):\n",
    "    def __init__(self):\n",
    "        #data loading\n",
    "        with open(art_json, 'r') as f:\n",
    "            kymos = np.asarray(json.loads(f.read())[\"kymoset\"])\n",
    "        kymos = kymos.astype('float32')\n",
    "        kymos = torch.from_numpy(kymos)\n",
    "        # self.x = kymos[:,None,:,:]\n",
    "        self.x = kymos\n",
    "        self.x = self.x[:,None,:,:]\n",
    "        self.n_samples = kymos.shape[0]\n",
    "\n",
    "    def __getitem__(self, index):\n",
    "        return self.x[index,:,:]\n",
    "\n",
    "    def __len__(self):\n",
    "        return self.n_samples"
   ]
  },
  {
   "cell_type": "markdown",
   "metadata": {},
   "source": [
    "### Autoencoder architecture, notice this is **NOT** a VAE"
   ]
  },
  {
   "cell_type": "code",
   "execution_count": 32,
   "metadata": {},
   "outputs": [],
   "source": [
    "class Encoder(nn.Module):\n",
    "    def __init__(self, latent_dims):\n",
    "        super(Encoder, self).__init__()\n",
    "        self.linear1 = nn.Linear(1200, 512) # input flattened kymograph\n",
    "        self.linear2 = nn.Linear(512, latent_dims) # squishes into latent space\n",
    "    \n",
    "    def forward(self, x):\n",
    "        x = torch.flatten(x, start_dim = 0) #may have to change start dim if not along right axis, I guessed randomly\n",
    "        x = F.relu(self.linear2(F.relu(self.linear1(x))))\n",
    "        return x\n",
    "\n",
    "class Decoder(nn.Module):\n",
    "    def __init__(self, latent_dims):\n",
    "        super(Decoder, self).__init__()\n",
    "        self.linear1 = nn.Linear(latent_dims, 512)\n",
    "        self.linear2 = nn.Linear(512, 1200)\n",
    "\n",
    "    def forward(self, z):\n",
    "        z = F.relu(self.linear1(z))\n",
    "        z = torch.sigmoid(self.linear2(z))\n",
    "        return z.reshape((-1, 1, 20, 60))\n",
    "\n",
    "class Autoencoder(nn.Module):\n",
    "    def __init__(self, latent_dims):\n",
    "        super(Autoencoder, self).__init__()\n",
    "        self.encoder = Encoder(latent_dims)\n",
    "        self.decoder = Decoder(latent_dims)\n",
    "\n",
    "    def forward(self, x):\n",
    "        z = self.encoder(x)\n",
    "        return self.decoder(z)"
   ]
  },
  {
   "cell_type": "markdown",
   "metadata": {},
   "source": [
    "#### Pretty good training loop, can probably repurpose for VAE as well"
   ]
  },
  {
   "cell_type": "code",
   "execution_count": 33,
   "metadata": {},
   "outputs": [],
   "source": [
    "def train(autoencoder, lr, data, epochs=10):\n",
    "    opt = torch.optim.Adam(autoencoder.parameters(), lr=lr)\n",
    "    for epoch in range(epochs):\n",
    "        startTime = time.perf_counter()\n",
    "        overall_loss = 0\n",
    "        for x in data:\n",
    "            x = x.to(device) # GPU\n",
    "            opt.zero_grad()\n",
    "            x_hat = autoencoder(x)\n",
    "            loss = ((x - x_hat)**2).sum()\n",
    "            loss.backward()\n",
    "            overall_loss += loss.item()\n",
    "            opt.step()\n",
    "        timediff = (time.perf_counter()-startTime)\n",
    "        print(\"\\tEpoch {} complete \\tTotal Loss: {} \\tTraining time: {} \".format(epoch+1, loss, timediff))\n",
    "    return autoencoder"
   ]
  },
  {
   "cell_type": "code",
   "execution_count": 34,
   "metadata": {},
   "outputs": [
    {
     "name": "stdout",
     "output_type": "stream",
     "text": [
      "\tEpoch 1 complete \tTotal Loss: 157906.9375 \tTraining time: 2.97419739999998 \n",
      "\tEpoch 2 complete \tTotal Loss: 157087.953125 \tTraining time: 2.631683399999929 \n",
      "\tEpoch 3 complete \tTotal Loss: 156714.71875 \tTraining time: 2.8268138000000818 \n",
      "\tEpoch 4 complete \tTotal Loss: 156601.375 \tTraining time: 3.089417400000002 \n",
      "\tEpoch 5 complete \tTotal Loss: 156527.109375 \tTraining time: 3.139295699999934 \n",
      "\tEpoch 6 complete \tTotal Loss: 156464.4375 \tTraining time: 3.866791400000011 \n",
      "\tEpoch 7 complete \tTotal Loss: 156451.265625 \tTraining time: 4.44309480000004 \n",
      "\tEpoch 8 complete \tTotal Loss: 156357.703125 \tTraining time: 4.344649600000025 \n",
      "\tEpoch 9 complete \tTotal Loss: 156357.703125 \tTraining time: 4.607671399999958 \n",
      "\tEpoch 10 complete \tTotal Loss: 156357.703125 \tTraining time: 4.433678900000018 \n"
     ]
    }
   ],
   "source": [
    "dataset = ArtKymoDataset()\n",
    "latent_dims = 10\n",
    "learning_rate = 1e-5 #his seems to be sweet spot, can try experimenting more though\n",
    "autoencoder = Autoencoder(latent_dims).to(device)\n",
    "autoencoder = train(autoencoder, lr=learning_rate, data=dataset, epochs=10)"
   ]
  },
  {
   "attachments": {},
   "cell_type": "markdown",
   "metadata": {},
   "source": [
    "### Variational Autoencoder"
   ]
  },
  {
   "cell_type": "code",
   "execution_count": 90,
   "metadata": {},
   "outputs": [],
   "source": [
    "class Kymo_VE(nn.Module):\n",
    "    def __init__(self, latent_dims):\n",
    "        super(Kymo_VE, self).__init__()\n",
    "        self.linearInput = nn.Linear(1200,512)\n",
    "        self.linear1 = nn.Linear(512, 256)\n",
    "        self.linear2 = nn.Linear(256,256)\n",
    "        self.linearMu = nn.Linear(256, latent_dims)\n",
    "        self.linearSigma = nn.Linear(256, latent_dims)\n",
    "\n",
    "        self.Normal = torch.distributions.Normal(0,1)\n",
    "        self.KLDivergence = 0 #Kullback–Leibler divergence\n",
    "\n",
    "    def forward(self, x):\n",
    "        x = torch.flatten(x, start_dim=0) #again, might have to change later, not sure if this should be 0 or 1\n",
    "        x = F.relu(self.linearInput(x))\n",
    "        x = F.relu(self.linear2(F.relu(self.linear1(x))))\n",
    "        mu = self.linearMu(x)\n",
    "        sigma = torch.exp(self.linearSigma(x))\n",
    "        z = mu + sigma*self.Normal.sample(mu.shape)\n",
    "        self.KLDivergence = (sigma**2 + mu**2 - torch.log(sigma) - 1/2).sum()\n",
    "\n",
    "        return z\n",
    "\n",
    "class VE_Decoder(nn.Module):\n",
    "    def __init__(self, latent_dims):\n",
    "        super(VE_Decoder, self).__init__()\n",
    "        self.linearLatent = nn.Linear(latent_dims, 256)\n",
    "        self.linear1 = nn.Linear(256,256)\n",
    "        self.linear2 = nn.Linear(256, 512)\n",
    "        self.linear3 = nn.Linear(512, 1200)\n",
    "\n",
    "    def forward(self, z):\n",
    "        z = F.relu(self.linearLatent(z))\n",
    "        z = F.relu(self.linear2(F.relu(self.linear1(z))))\n",
    "        z = torch.sigmoid(self.linear3(z))\n",
    "        return z.reshape((-1, 1, 20, 60))\n",
    "\n",
    "class Kymo_VAE(nn.Module):\n",
    "    def __init__(self, latent_dims):\n",
    "        super(Kymo_VAE, self).__init__()\n",
    "        self.encoder = Kymo_VE(latent_dims)\n",
    "        self.decoder = VE_Decoder(latent_dims)\n",
    "\n",
    "    def forward(self, x):\n",
    "        z = self.encoder(x)\n",
    "        return self.decoder(z)\n"
   ]
  },
  {
   "attachments": {},
   "cell_type": "markdown",
   "metadata": {},
   "source": [
    "#### VAE Training Loop"
   ]
  },
  {
   "cell_type": "code",
   "execution_count": 118,
   "metadata": {},
   "outputs": [],
   "source": [
    "def trainVAE(autoencoder, lr, data, epochs=10, tol = 1000):\n",
    "    opt = torch.optim.Adam(autoencoder.parameters(), lr=lr)\n",
    "    data_len = len(data)\n",
    "    past_loss = 0\n",
    "    for epoch in range(epochs):\n",
    "        startTime = time.perf_counter()\n",
    "        loss_count = 0\n",
    "        for x in data:\n",
    "            x = x.to(device) # GPU\n",
    "            opt.zero_grad()\n",
    "            x_hat = autoencoder(x)\n",
    "            loss = ((x - x_hat)**2).sum() + autoencoder.encoder.KLDivergence\n",
    "            loss.backward()\n",
    "            loss_count += loss.item()\n",
    "            opt.step()\n",
    "        timediff = (time.perf_counter()-startTime)\n",
    "        print(\"\\tEpoch {} complete \\tAverage Loss: {:.3f} \\tTraining time: {:.3f} \".format(epoch+1, loss_count/data_len, timediff))\n",
    "        if abs(past_loss-loss_count) < tol:\n",
    "            print(\"\\nModel learning below cutoff: {}\\nTerminating model training...\".format(tol))\n",
    "            return autoencoder\n",
    "        past_loss = loss_count\n",
    "    return autoencoder"
   ]
  },
  {
   "cell_type": "code",
   "execution_count": 119,
   "metadata": {},
   "outputs": [
    {
     "name": "stdout",
     "output_type": "stream",
     "text": [
      "\tEpoch 1 complete \tAverage Loss: 180787.270 \tTraining time: 5.110 \n",
      "\tEpoch 2 complete \tAverage Loss: 174091.093 \tTraining time: 4.746 \n",
      "\tEpoch 3 complete \tAverage Loss: 172000.061 \tTraining time: 4.698 \n",
      "\tEpoch 4 complete \tAverage Loss: 171044.593 \tTraining time: 5.279 \n",
      "\tEpoch 5 complete \tAverage Loss: 170171.194 \tTraining time: 5.719 \n",
      "\tEpoch 6 complete \tAverage Loss: 169992.536 \tTraining time: 5.782 \n",
      "\tEpoch 7 complete \tAverage Loss: 169933.903 \tTraining time: 6.021 \n",
      "\tEpoch 8 complete \tAverage Loss: 169895.124 \tTraining time: 6.207 \n",
      "\tEpoch 9 complete \tAverage Loss: 169876.707 \tTraining time: 6.269 \n",
      "\tEpoch 10 complete \tAverage Loss: 169854.036 \tTraining time: 6.286 \n",
      "\tEpoch 11 complete \tAverage Loss: 169845.812 \tTraining time: 6.665 \n",
      "\tEpoch 12 complete \tAverage Loss: 169830.859 \tTraining time: 6.306 \n",
      "\tEpoch 13 complete \tAverage Loss: 169817.217 \tTraining time: 6.328 \n",
      "\tEpoch 14 complete \tAverage Loss: 169805.673 \tTraining time: 6.333 \n",
      "\tEpoch 15 complete \tAverage Loss: 169796.686 \tTraining time: 6.498 \n",
      "\tEpoch 16 complete \tAverage Loss: 169794.873 \tTraining time: 6.265 \n",
      "\n",
      "Model learning below cutoff: 1000\n",
      "Terminating model training...\n"
     ]
    }
   ],
   "source": [
    "VAE = Kymo_VAE(latent_dims=2).to(device)\n",
    "VAE = trainVAE(VAE, lr=learning_rate, data=dataset, epochs=100)"
   ]
  },
  {
   "cell_type": "code",
   "execution_count": 110,
   "metadata": {},
   "outputs": [],
   "source": [
    "def plot_latent(autoencoder, data):\n",
    "    for i, x in enumerate(data):\n",
    "        z = autoencoder.encoder(x.to(device))\n",
    "        z = z.to('cpu').detach().numpy()\n",
    "        plt.scatter(z[0], z[1])"
   ]
  },
  {
   "cell_type": "code",
   "execution_count": 94,
   "metadata": {},
   "outputs": [
    {
     "data": {
      "image/png": "[encoded data removed]",
      "text/plain": [
       "<Figure size 640x480 with 1 Axes>"
      ]
     },
     "metadata": {},
     "output_type": "display_data"
    }
   ],
   "source": [
    "plot_latent(VAE, dataset)"
   ]
  },
  {
   "cell_type": "code",
   "execution_count": null,
   "metadata": {},
   "outputs": [],
   "source": []
  }
 ],
 "metadata": {
  "kernelspec": {
   "display_name": "base",
   "language": "python",
   "name": "python3"
  },
  "language_info": {
   "codemirror_mode": {
    "name": "ipython",
    "version": 3
   },
   "file_extension": ".py",
   "mimetype": "text/x-python",
   "name": "python",
   "nbconvert_exporter": "python",
   "pygments_lexer": "ipython3",
   "version": "3.9.13"
  },
  "orig_nbformat": 4,
  "vscode": {
   "interpreter": {
    "hash": "f6ed3f38b1ef4c16f8a5be48bf66a1aded4ea0eb199bbc31dab9e5edd4e77510"
   }
  }
 },
 "nbformat": 4,
 "nbformat_minor": 2
}
