{
 "cells": [
  {
   "cell_type": "code",
   "execution_count": 19,
   "metadata": {},
   "outputs": [],
   "source": [
    "import torch\n",
    "from torch.utils.data import Dataset, DataLoader\n",
    "import numpy as np\n",
    "import math\n",
    "import json\n",
    "from matplotlib import pyplot as plt"
   ]
  },
  {
   "cell_type": "code",
   "execution_count": 27,
   "metadata": {},
   "outputs": [],
   "source": [
    "#Paths\n",
    "parent_folder = 'C:/Users/Aidan/Documents/Winter_2023/BE177B/Code/wonglab-capstone/'\n",
    "# img_folder = parent_folder+'Datateam/Artificial_imset/'\n",
    "# paths_folder = parent_folder+'Datateam/ArtificialImgPaths.csv'\n",
    "art_json = parent_folder+'Datateam/Artificial_imset/artificial_kymographs.json'\n",
    "exp_json = parent_folder+'Datateam/imset1/experimental_kymograph.json'"
   ]
  },
  {
   "cell_type": "code",
   "execution_count": 55,
   "metadata": {},
   "outputs": [
    {
     "data": {
      "image/png": "[encoded data removed]",
      "text/plain": [
       "<Figure size 640x480 with 2 Axes>"
      ]
     },
     "metadata": {},
     "output_type": "display_data"
    }
   ],
   "source": [
    "#Load the artificial, experimental kymographs\n",
    "#This consumes a non-trivial amount of memory, so comment out when actually training the model\n",
    "\n",
    "with open(art_json, 'r') as f:\n",
    "  art_kymo = np.asarray(json.loads(f.read())[\"kymoset\"])\n",
    "\n",
    "with open(exp_json, 'r') as f:\n",
    "  exp_kymo = np.asarray(json.loads(f.read()))\n",
    "\n",
    "#Plot to ensure correct loading\n",
    "plt.subplot(1,2,1)\n",
    "plt.title('Aritificial Image')\n",
    "plt.xlabel('time (1sec/20)')\n",
    "plt.ylabel('axis position')\n",
    "plt.imshow(art_kymo[0,:,:], cmap='gray', interpolation='nearest')\n",
    "\n",
    "plt.subplot(1,2,2)\n",
    "plt.title('Experimental Image Image')\n",
    "plt.xlabel('time (1sec/20)')\n",
    "plt.ylabel('axis position')\n",
    "#note that the artificial indicies are position[0] while experimental are position[2]\n",
    "plt.imshow(exp_kymo[:,:,0], cmap='gray', interpolation='nearest')\n",
    "\n",
    "plt.tight_layout()\n",
    "plt.show()"
   ]
  },
  {
   "cell_type": "code",
   "execution_count": 67,
   "metadata": {},
   "outputs": [],
   "source": [
    "class ArtKymoDataset(Dataset):\n",
    "    def __init__(self):\n",
    "        #data loading\n",
    "        with open(art_json, 'r') as f:\n",
    "            kymos = np.asarray(json.loads(f.read())[\"kymoset\"])\n",
    "\n",
    "        self.x = torch.from_numpy(kymos)\n",
    "        self.n_samples = kymos.shape[0]\n",
    "\n",
    "    def __getitem__(self, index):\n",
    "        return self.x[index,:,:]\n",
    "\n",
    "    def __len__(self):\n",
    "        return self.n_samples"
   ]
  },
  {
   "cell_type": "code",
   "execution_count": 73,
   "metadata": {},
   "outputs": [],
   "source": [
    "class ExpKymoDataset(Dataset):\n",
    "    def __init__(self):\n",
    "        #data loading\n",
    "        with open(exp_json, 'r') as f:\n",
    "            kymos = np.asarray(json.loads(f.read()))\n",
    "\n",
    "        self.x = torch.from_numpy(kymos)\n",
    "        self.n_samples = kymos.shape[2]\n",
    "\n",
    "    def __getitem__(self, index):\n",
    "        return self.x[:,:,index]\n",
    "\n",
    "    def __len__(self):\n",
    "        return self.n_samples"
   ]
  },
  {
   "cell_type": "code",
   "execution_count": 72,
   "metadata": {},
   "outputs": [
    {
     "name": "stdout",
     "output_type": "stream",
     "text": [
      "300\n",
      "5\n",
      "epoch 1/2, step 5/60, inputs torch.Size([5, 20, 60])\n",
      "epoch 1/2, step 10/60, inputs torch.Size([5, 20, 60])\n",
      "epoch 1/2, step 15/60, inputs torch.Size([5, 20, 60])\n",
      "epoch 1/2, step 20/60, inputs torch.Size([5, 20, 60])\n",
      "epoch 1/2, step 25/60, inputs torch.Size([5, 20, 60])\n",
      "epoch 1/2, step 30/60, inputs torch.Size([5, 20, 60])\n",
      "epoch 1/2, step 35/60, inputs torch.Size([5, 20, 60])\n",
      "epoch 1/2, step 40/60, inputs torch.Size([5, 20, 60])\n",
      "epoch 1/2, step 45/60, inputs torch.Size([5, 20, 60])\n",
      "epoch 1/2, step 50/60, inputs torch.Size([5, 20, 60])\n",
      "epoch 1/2, step 55/60, inputs torch.Size([5, 20, 60])\n",
      "epoch 1/2, step 60/60, inputs torch.Size([5, 20, 60])\n",
      "epoch 2/2, step 5/60, inputs torch.Size([5, 20, 60])\n",
      "epoch 2/2, step 10/60, inputs torch.Size([5, 20, 60])\n",
      "epoch 2/2, step 15/60, inputs torch.Size([5, 20, 60])\n",
      "epoch 2/2, step 20/60, inputs torch.Size([5, 20, 60])\n",
      "epoch 2/2, step 25/60, inputs torch.Size([5, 20, 60])\n",
      "epoch 2/2, step 30/60, inputs torch.Size([5, 20, 60])\n",
      "epoch 2/2, step 35/60, inputs torch.Size([5, 20, 60])\n",
      "epoch 2/2, step 40/60, inputs torch.Size([5, 20, 60])\n",
      "epoch 2/2, step 45/60, inputs torch.Size([5, 20, 60])\n",
      "epoch 2/2, step 50/60, inputs torch.Size([5, 20, 60])\n",
      "epoch 2/2, step 55/60, inputs torch.Size([5, 20, 60])\n",
      "epoch 2/2, step 60/60, inputs torch.Size([5, 20, 60])\n"
     ]
    }
   ],
   "source": [
    "#Dataloader test for arificial dataset\n",
    "\n",
    "batch_size = 5\n",
    "dataset = ArtKymoDataset()\n",
    "dataloader = DataLoader(dataset=dataset, batch_size=batch_size, shuffle=True)\n",
    "print(ArtKymoDataset.__len__(dataset))\n",
    "\n",
    "dataiter = iter(dataloader)\n",
    "data = dataiter._next_data()\n",
    "\n",
    "#display first batch!\n",
    "print(len(data))\n",
    "\n",
    "#training loop\n",
    "num_epochs = 2\n",
    "total_samples = len(dataset)\n",
    "n_iterations = math.ceil(total_samples/batch_size)\n",
    "\n",
    "for epoch in range(num_epochs):\n",
    "    for i, inputs in enumerate(dataloader):\n",
    "        #forward, backward, update\n",
    "        if (i+1) % 5 == 0:\n",
    "            print(f'epoch {epoch+1}/{num_epochs}, step {i+1}/{n_iterations}, inputs {inputs.shape}') #summary for debugging"
   ]
  },
  {
   "cell_type": "code",
   "execution_count": 74,
   "metadata": {},
   "outputs": [
    {
     "name": "stdout",
     "output_type": "stream",
     "text": [
      "112\n",
      "5\n",
      "epoch 1/2, step 5/23, inputs torch.Size([5, 20, 60])\n",
      "epoch 1/2, step 10/23, inputs torch.Size([5, 20, 60])\n",
      "epoch 1/2, step 15/23, inputs torch.Size([5, 20, 60])\n",
      "epoch 1/2, step 20/23, inputs torch.Size([5, 20, 60])\n",
      "epoch 2/2, step 5/23, inputs torch.Size([5, 20, 60])\n",
      "epoch 2/2, step 10/23, inputs torch.Size([5, 20, 60])\n",
      "epoch 2/2, step 15/23, inputs torch.Size([5, 20, 60])\n",
      "epoch 2/2, step 20/23, inputs torch.Size([5, 20, 60])\n"
     ]
    }
   ],
   "source": [
    "#Dataloader test for experimental dataset\n",
    "\n",
    "batch_size = 5\n",
    "dataset = ExpKymoDataset()\n",
    "dataloader = DataLoader(dataset=dataset, batch_size=batch_size, shuffle=True)\n",
    "print(ExpKymoDataset.__len__(dataset))\n",
    "\n",
    "dataiter = iter(dataloader)\n",
    "data = dataiter._next_data()\n",
    "\n",
    "#display first batch!\n",
    "print(len(data))\n",
    "\n",
    "#training loop\n",
    "num_epochs = 2\n",
    "total_samples = len(dataset)\n",
    "n_iterations = math.ceil(total_samples/batch_size)\n",
    "\n",
    "for epoch in range(num_epochs):\n",
    "    for i, inputs in enumerate(dataloader):\n",
    "        #forward, backward, update\n",
    "        if (i+1) % 5 == 0:\n",
    "            print(f'epoch {epoch+1}/{num_epochs}, step {i+1}/{n_iterations}, inputs {inputs.shape}') #summary for debugging"
   ]
  }
 ],
 "metadata": {
  "kernelspec": {
   "display_name": "base",
   "language": "python",
   "name": "python3"
  },
  "language_info": {
   "codemirror_mode": {
    "name": "ipython",
    "version": 3
   },
   "file_extension": ".py",
   "mimetype": "text/x-python",
   "name": "python",
   "nbconvert_exporter": "python",
   "pygments_lexer": "ipython3",
   "version": "3.9.13"
  },
  "orig_nbformat": 4,
  "vscode": {
   "interpreter": {
    "hash": "f6ed3f38b1ef4c16f8a5be48bf66a1aded4ea0eb199bbc31dab9e5edd4e77510"
   }
  }
 },
 "nbformat": 4,
 "nbformat_minor": 2
}
