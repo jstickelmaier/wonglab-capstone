{
 "cells": [
  {
   "cell_type": "code",
   "execution_count": 18,
   "metadata": {},
   "outputs": [],
   "source": [
    "import torch\n",
    "from torch.utils.data import Dataset, DataLoader, random_split\n",
    "import numpy as np\n",
    "import math\n",
    "import json\n",
    "from matplotlib import pyplot as plt\n",
    "\n",
    "import pandas as pd \n",
    "import torchvision\n",
    "from torchvision import transforms\n",
    "from torch import nn\n",
    "import torch.nn.functional as F"
   ]
  },
  {
   "cell_type": "code",
   "execution_count": 10,
   "metadata": {},
   "outputs": [],
   "source": [
    "### Paths ###\n",
    "\n",
    "parent_folder = 'C:/Users/Aidan/Documents/Winter_2023/BE177B/Code/'  #aidan specific\n",
    "parent_folder1 = '/Users/jamiestickelmaier/Documents/Capstone/'      #jamie specific\n",
    "\n",
    "# img_folder = parent_folder+'Datateam/Artificial_imset/'\n",
    "# paths_folder = parent_folder+'Datateam/ArtificialImgPaths.csv'\n",
    "art_json = parent_folder1 + 'wonglab-capstone/Datateam/Artificial_imset/artificial_kymographs.json'\n",
    "exp_json = parent_folder1 + 'wonglab-capstone/Datateam/imset1/experimental_kymograph.json'"
   ]
  },
  {
   "cell_type": "code",
   "execution_count": 11,
   "metadata": {},
   "outputs": [
    {
     "data": {
      "image/png": "[encoded data removed]",
      "text/plain": [
       "<Figure size 640x480 with 2 Axes>"
      ]
     },
     "metadata": {},
     "output_type": "display_data"
    }
   ],
   "source": [
    "#Load the artificial, experimental kymographs\n",
    "#This consumes a non-trivial amount of memory, so comment out when actually training the model\n",
    "\n",
    "with open(art_json, 'r') as f:\n",
    "  art_kymo = np.asarray(json.loads(f.read())[\"kymoset\"])\n",
    "\n",
    "with open(exp_json, 'r') as f:\n",
    "  exp_kymo = np.asarray(json.loads(f.read()))\n",
    "\n",
    "#Plot to ensure correct loading\n",
    "plt.subplot(1,2,1)\n",
    "plt.title('Aritificial Image')\n",
    "plt.xlabel('time (1sec/20)')\n",
    "plt.ylabel('axis position')\n",
    "plt.imshow(art_kymo[0,:,:], cmap='gray', interpolation='nearest')\n",
    "\n",
    "plt.subplot(1,2,2)\n",
    "plt.title('Experimental Image Image')\n",
    "plt.xlabel('time (1sec/20)')\n",
    "plt.ylabel('axis position')\n",
    "#note that the artificial indicies are position[0] while experimental are position[2]\n",
    "plt.imshow(exp_kymo[:,:,0], cmap='gray', interpolation='nearest')\n",
    "\n",
    "plt.tight_layout()\n",
    "plt.show()"
   ]
  },
  {
   "cell_type": "code",
   "execution_count": 12,
   "metadata": {},
   "outputs": [],
   "source": [
    "class ArtKymoDataset(Dataset):\n",
    "    def __init__(self):\n",
    "        #data loading\n",
    "        with open(art_json, 'r') as f:\n",
    "            kymos = np.asarray(json.loads(f.read())[\"kymoset\"])\n",
    "\n",
    "        self.x = torch.from_numpy(kymos)\n",
    "        self.n_samples = kymos.shape[0]\n",
    "\n",
    "    def __getitem__(self, index):\n",
    "        return self.x[index,:,:]\n",
    "\n",
    "    def __len__(self):\n",
    "        return self.n_samples"
   ]
  },
  {
   "cell_type": "code",
   "execution_count": 13,
   "metadata": {},
   "outputs": [],
   "source": [
    "class ExpKymoDataset(Dataset):\n",
    "    def __init__(self):\n",
    "        #data loading\n",
    "        with open(exp_json, 'r') as f:\n",
    "            kymos = np.asarray(json.loads(f.read()))\n",
    "\n",
    "        self.x = torch.from_numpy(kymos)\n",
    "        self.n_samples = kymos.shape[2]\n",
    "\n",
    "    def __getitem__(self, index):\n",
    "        return self.x[:,:,index]\n",
    "\n",
    "    def __len__(self):\n",
    "        return self.n_samples"
   ]
  },
  {
   "cell_type": "code",
   "execution_count": 14,
   "metadata": {},
   "outputs": [
    {
     "name": "stdout",
     "output_type": "stream",
     "text": [
      "300\n",
      "5\n",
      "epoch 1/2, step 5/60, inputs torch.Size([5, 20, 60])\n",
      "epoch 1/2, step 10/60, inputs torch.Size([5, 20, 60])\n",
      "epoch 1/2, step 15/60, inputs torch.Size([5, 20, 60])\n",
      "epoch 1/2, step 20/60, inputs torch.Size([5, 20, 60])\n",
      "epoch 1/2, step 25/60, inputs torch.Size([5, 20, 60])\n",
      "epoch 1/2, step 30/60, inputs torch.Size([5, 20, 60])\n",
      "epoch 1/2, step 35/60, inputs torch.Size([5, 20, 60])\n",
      "epoch 1/2, step 40/60, inputs torch.Size([5, 20, 60])\n",
      "epoch 1/2, step 45/60, inputs torch.Size([5, 20, 60])\n",
      "epoch 1/2, step 50/60, inputs torch.Size([5, 20, 60])\n",
      "epoch 1/2, step 55/60, inputs torch.Size([5, 20, 60])\n",
      "epoch 1/2, step 60/60, inputs torch.Size([5, 20, 60])\n",
      "epoch 2/2, step 5/60, inputs torch.Size([5, 20, 60])\n",
      "epoch 2/2, step 10/60, inputs torch.Size([5, 20, 60])\n",
      "epoch 2/2, step 15/60, inputs torch.Size([5, 20, 60])\n",
      "epoch 2/2, step 20/60, inputs torch.Size([5, 20, 60])\n",
      "epoch 2/2, step 25/60, inputs torch.Size([5, 20, 60])\n",
      "epoch 2/2, step 30/60, inputs torch.Size([5, 20, 60])\n",
      "epoch 2/2, step 35/60, inputs torch.Size([5, 20, 60])\n",
      "epoch 2/2, step 40/60, inputs torch.Size([5, 20, 60])\n",
      "epoch 2/2, step 45/60, inputs torch.Size([5, 20, 60])\n",
      "epoch 2/2, step 50/60, inputs torch.Size([5, 20, 60])\n",
      "epoch 2/2, step 55/60, inputs torch.Size([5, 20, 60])\n",
      "epoch 2/2, step 60/60, inputs torch.Size([5, 20, 60])\n"
     ]
    }
   ],
   "source": [
    "#Dataloader test for arificial dataset\n",
    "\n",
    "batch_size = 5\n",
    "dataset = ArtKymoDataset()\n",
    "dataloader = DataLoader(dataset=dataset, batch_size=batch_size, shuffle=True)\n",
    "print(ArtKymoDataset.__len__(dataset))\n",
    "\n",
    "dataiter = iter(dataloader)\n",
    "data = dataiter._next_data()\n",
    "\n",
    "#display first batch!\n",
    "print(len(data))\n",
    "\n",
    "#training loop\n",
    "num_epochs = 2\n",
    "total_samples = len(dataset)\n",
    "n_iterations = math.ceil(total_samples/batch_size)\n",
    "\n",
    "for epoch in range(num_epochs):\n",
    "    for i, inputs in enumerate(dataloader):\n",
    "        #forward, backward, update\n",
    "        if (i+1) % 5 == 0:\n",
    "            print(f'epoch {epoch+1}/{num_epochs}, step {i+1}/{n_iterations}, inputs {inputs.shape}') #summary for debugging"
   ]
  },
  {
   "cell_type": "code",
   "execution_count": 15,
   "metadata": {},
   "outputs": [
    {
     "name": "stdout",
     "output_type": "stream",
     "text": [
      "112\n",
      "5\n",
      "epoch 1/2, step 5/23, inputs torch.Size([5, 20, 60])\n",
      "epoch 1/2, step 10/23, inputs torch.Size([5, 20, 60])\n",
      "epoch 1/2, step 15/23, inputs torch.Size([5, 20, 60])\n",
      "epoch 1/2, step 20/23, inputs torch.Size([5, 20, 60])\n",
      "epoch 2/2, step 5/23, inputs torch.Size([5, 20, 60])\n",
      "epoch 2/2, step 10/23, inputs torch.Size([5, 20, 60])\n",
      "epoch 2/2, step 15/23, inputs torch.Size([5, 20, 60])\n",
      "epoch 2/2, step 20/23, inputs torch.Size([5, 20, 60])\n"
     ]
    }
   ],
   "source": [
    "#Dataloader test for experimental dataset\n",
    "\n",
    "batch_size = 5\n",
    "dataset = ExpKymoDataset()\n",
    "dataloader = DataLoader(dataset=dataset, batch_size=batch_size, shuffle=True)\n",
    "print(ExpKymoDataset.__len__(dataset))\n",
    "\n",
    "dataiter = iter(dataloader)\n",
    "data = dataiter._next_data()\n",
    "\n",
    "#display first batch!\n",
    "print(len(data))\n",
    "\n",
    "#training loop\n",
    "num_epochs = 2\n",
    "total_samples = len(dataset)\n",
    "n_iterations = math.ceil(total_samples/batch_size)\n",
    "\n",
    "for epoch in range(num_epochs):\n",
    "    for i, inputs in enumerate(dataloader):\n",
    "        #forward, backward, update\n",
    "        if (i+1) % 5 == 0:\n",
    "            print(f'epoch {epoch+1}/{num_epochs}, step {i+1}/{n_iterations}, inputs {inputs.shape}') #summary for debugging"
   ]
  },
  {
   "cell_type": "code",
   "execution_count": 23,
   "metadata": {},
   "outputs": [],
   "source": [
    "### VAE setup ###\n",
    "\n",
    "class VariationalEncoder(nn.Module):\n",
    "\n",
    "    def __init__(self, latent_dims):  \n",
    "        super(VariationalEncoder, self).__init__()\n",
    "        self.conv1 = nn.Conv2d(1, 8, 3, stride=2, padding=1)\n",
    "        self.conv2 = nn.Conv2d(8, 16, 3, stride=2, padding=1)\n",
    "        self.batch2 = nn.BatchNorm2d(16)\n",
    "        self.conv3 = nn.Conv2d(16, 32, 3, stride=2, padding=0)  \n",
    "        self.linear1 = nn.Linear(3*3*32, 128)\n",
    "        self.linear2 = nn.Linear(128, latent_dims)\n",
    "        self.linear3 = nn.Linear(128, latent_dims)\n",
    "\n",
    "        self.N = torch.distributions.Normal(0, 1)\n",
    "        self.N.loc = self.N.loc   #.cuda() # hack to get sampling on the GPU\n",
    "        self.N.scale = self.N.scale  #.cuda()\n",
    "        self.kl = 0\n",
    "\n",
    "    def forward(self, x):\n",
    "        x = x.to(device)\n",
    "        x = F.relu(self.conv1(x))\n",
    "        x = F.relu(self.batch2(self.conv2(x)))\n",
    "        x = F.relu(self.conv3(x))\n",
    "        x = torch.flatten(x, start_dim=1)\n",
    "        x = F.relu(self.linear1(x))\n",
    "        mu =  self.linear2(x)\n",
    "        sigma = torch.exp(self.linear3(x))\n",
    "        z = mu + sigma*self.N.sample(mu.shape)\n",
    "        self.kl = (sigma**2 + mu**2 - torch.log(sigma) - 1/2).sum()\n",
    "        return z   \n",
    "\n",
    "\n",
    "class Decoder(nn.Module):\n",
    "    \n",
    "    def __init__(self, latent_dims):\n",
    "        super().__init__()\n",
    "\n",
    "        self.decoder_lin = nn.Sequential(\n",
    "            nn.Linear(latent_dims, 128),\n",
    "            nn.ReLU(True),\n",
    "            nn.Linear(128, 3 * 3 * 32),\n",
    "            nn.ReLU(True)\n",
    "        )\n",
    "\n",
    "        self.unflatten = nn.Unflatten(dim=1, unflattened_size=(32, 3, 3))\n",
    "\n",
    "        self.decoder_conv = nn.Sequential(\n",
    "            nn.ConvTranspose2d(32, 16, 3, stride=2, output_padding=0),\n",
    "            nn.BatchNorm2d(16),\n",
    "            nn.ReLU(True),\n",
    "            nn.ConvTranspose2d(16, 8, 3, stride=2, padding=1, output_padding=1),\n",
    "            nn.BatchNorm2d(8),\n",
    "            nn.ReLU(True),\n",
    "            nn.ConvTranspose2d(8, 1, 3, stride=2, padding=1, output_padding=1)\n",
    "        )\n",
    "        \n",
    "    def forward(self, x):\n",
    "        x = self.decoder_lin(x)\n",
    "        x = self.unflatten(x)\n",
    "        x = self.decoder_conv(x)\n",
    "        x = torch.sigmoid(x)\n",
    "        return x\n",
    "\n",
    "\n",
    "class VariationalAutoencoder(nn.Module):\n",
    "    def __init__(self, latent_dims):\n",
    "        super(VariationalAutoencoder, self).__init__()\n",
    "        self.encoder = VariationalEncoder(latent_dims)\n",
    "        self.decoder = Decoder(latent_dims)\n",
    "\n",
    "    def forward(self, x):\n",
    "        x = x.to(device)\n",
    "        z = self.encoder(x)\n",
    "        return self.decoder(z)"
   ]
  },
  {
   "cell_type": "code",
   "execution_count": 24,
   "metadata": {},
   "outputs": [
    {
     "data": {
      "text/plain": [
       "VariationalAutoencoder(\n",
       "  (encoder): VariationalEncoder(\n",
       "    (conv1): Conv2d(1, 8, kernel_size=(3, 3), stride=(2, 2), padding=(1, 1))\n",
       "    (conv2): Conv2d(8, 16, kernel_size=(3, 3), stride=(2, 2), padding=(1, 1))\n",
       "    (batch2): BatchNorm2d(16, eps=1e-05, momentum=0.1, affine=True, track_running_stats=True)\n",
       "    (conv3): Conv2d(16, 32, kernel_size=(3, 3), stride=(2, 2))\n",
       "    (linear1): Linear(in_features=288, out_features=128, bias=True)\n",
       "    (linear2): Linear(in_features=128, out_features=4, bias=True)\n",
       "    (linear3): Linear(in_features=128, out_features=4, bias=True)\n",
       "  )\n",
       "  (decoder): Decoder(\n",
       "    (decoder_lin): Sequential(\n",
       "      (0): Linear(in_features=4, out_features=128, bias=True)\n",
       "      (1): ReLU(inplace=True)\n",
       "      (2): Linear(in_features=128, out_features=288, bias=True)\n",
       "      (3): ReLU(inplace=True)\n",
       "    )\n",
       "    (unflatten): Unflatten(dim=1, unflattened_size=(32, 3, 3))\n",
       "    (decoder_conv): Sequential(\n",
       "      (0): ConvTranspose2d(32, 16, kernel_size=(3, 3), stride=(2, 2))\n",
       "      (1): BatchNorm2d(16, eps=1e-05, momentum=0.1, affine=True, track_running_stats=True)\n",
       "      (2): ReLU(inplace=True)\n",
       "      (3): ConvTranspose2d(16, 8, kernel_size=(3, 3), stride=(2, 2), padding=(1, 1), output_padding=(1, 1))\n",
       "      (4): BatchNorm2d(8, eps=1e-05, momentum=0.1, affine=True, track_running_stats=True)\n",
       "      (5): ReLU(inplace=True)\n",
       "      (6): ConvTranspose2d(8, 1, kernel_size=(3, 3), stride=(2, 2), padding=(1, 1), output_padding=(1, 1))\n",
       "    )\n",
       "  )\n",
       ")"
      ]
     },
     "execution_count": 24,
     "metadata": {},
     "output_type": "execute_result"
    }
   ],
   "source": [
    "### Set the random seed for reproducible results\n",
    "torch.manual_seed(0)\n",
    "\n",
    "d = 4\n",
    "\n",
    "vae = VariationalAutoencoder(latent_dims=d)\n",
    "\n",
    "lr = 1e-3 \n",
    "\n",
    "optim = torch.optim.Adam(vae.parameters(), lr=lr, weight_decay=1e-5)\n",
    "\n",
    "device = torch.device(\"cuda\") if torch.cuda.is_available() else torch.device(\"cpu\")\n",
    "\n",
    "vae.to(device)"
   ]
  },
  {
   "cell_type": "code",
   "execution_count": 25,
   "metadata": {},
   "outputs": [],
   "source": [
    "### Training & testing functions ###\n",
    "\n",
    "def train_epoch(vae, device, dataloader, optimizer):\n",
    "    # Set train mode for both the encoder and the decoder\n",
    "    vae.train()\n",
    "    train_loss = 0.0\n",
    "    # Iterate the dataloader (we do not need the label values, this is unsupervised learning)\n",
    "    for x, _ in dataloader: \n",
    "        # Move tensor to the proper device\n",
    "        x = x.to(device)\n",
    "        x_hat = vae(x)\n",
    "        # Evaluate loss\n",
    "        loss = ((x - x_hat)**2).sum() + vae.encoder.kl\n",
    "\n",
    "        # Backward pass\n",
    "        optimizer.zero_grad()\n",
    "        loss.backward()\n",
    "        optimizer.step()\n",
    "        # Print batch loss\n",
    "        print('\\t partial train loss (single batch): %f' % (loss.item()))\n",
    "        train_loss+=loss.item()\n",
    "\n",
    "    return train_loss / len(dataloader.dataset)\n",
    "\n",
    "\n",
    "def test_epoch(vae, device, dataloader):\n",
    "    # Set evaluation mode for encoder and decoder\n",
    "    vae.eval()\n",
    "    val_loss = 0.0\n",
    "    with torch.no_grad(): # No need to track the gradients\n",
    "        for x, _ in dataloader:\n",
    "            # Move tensor to the proper device\n",
    "            x = x.to(device)\n",
    "            # Encode data\n",
    "            encoded_data = vae.encoder(x)\n",
    "            # Decode data\n",
    "            x_hat = vae(x)\n",
    "            loss = ((x - x_hat)**2).sum() + vae.encoder.kl\n",
    "            val_loss += loss.item()\n",
    "\n",
    "    return val_loss / len(dataloader.dataset)"
   ]
  },
  {
   "cell_type": "code",
   "execution_count": 26,
   "metadata": {},
   "outputs": [],
   "source": [
    "def plot_vae_outputs(encoder,decoder,n=10):\n",
    "    plt.figure(figsize=(16,4.5))\n",
    "    targets = test_dataset.targets.numpy()\n",
    "    t_idx = {i:np.where(targets==i)[0][0] for i in range(n)}\n",
    "    for i in range(n):\n",
    "      ax = plt.subplot(2,n,i+1)\n",
    "      img = test_dataset[t_idx[i]][0].unsqueeze(0).to(device)\n",
    "      encoder.eval()\n",
    "      decoder.eval()\n",
    "      with torch.no_grad():\n",
    "         rec_img  = decoder(encoder(img))\n",
    "      plt.imshow(img.cpu().squeeze().numpy(), cmap='gist_gray')\n",
    "      ax.get_xaxis().set_visible(False)\n",
    "      ax.get_yaxis().set_visible(False)  \n",
    "      if i == n//2:\n",
    "        ax.set_title('Original images')\n",
    "      ax = plt.subplot(2, n, i + 1 + n)\n",
    "      plt.imshow(rec_img.cpu().squeeze().numpy(), cmap='gist_gray')  \n",
    "      ax.get_xaxis().set_visible(False)\n",
    "      ax.get_yaxis().set_visible(False)  \n",
    "      if i == n//2:\n",
    "         ax.set_title('Reconstructed images')\n",
    "    plt.show()  "
   ]
  },
  {
   "cell_type": "code",
   "execution_count": 27,
   "metadata": {},
   "outputs": [],
   "source": [
    "### Load artificial/train data ###\n",
    "\n",
    "batch_size = 5\n",
    "\n",
    "train_dataset = ArtKymoDataset()\n",
    "\n",
    "m=len(train_dataset)\n",
    "\n",
    "train_data, val_data = random_split(train_dataset, [int(m-m*0.2), int(m*0.2)])\n",
    "\n",
    "train_loader = DataLoader(dataset=train_data, batch_size=batch_size) #shuffle=True ?\n",
    "valid_loader = DataLoader(dataset=val_data, batch_size=batch_size)"
   ]
  },
  {
   "cell_type": "code",
   "execution_count": 34,
   "metadata": {},
   "outputs": [
    {
     "name": "stdout",
     "output_type": "stream",
     "text": [
      "48\n"
     ]
    },
    {
     "ename": "ValueError",
     "evalue": "too many values to unpack (expected 2)",
     "output_type": "error",
     "traceback": [
      "\u001b[0;31m---------------------------------------------------------------------------\u001b[0m",
      "\u001b[0;31mValueError\u001b[0m                                Traceback (most recent call last)",
      "Cell \u001b[0;32mIn[34], line 3\u001b[0m\n\u001b[1;32m      1\u001b[0m \u001b[39mprint\u001b[39m(\u001b[39mlen\u001b[39m(train_loader))\n\u001b[0;32m----> 3\u001b[0m train_features, train_labels \u001b[39m=\u001b[39m \u001b[39mnext\u001b[39m(\u001b[39miter\u001b[39m(train_loader))\n\u001b[1;32m      4\u001b[0m \u001b[39mprint\u001b[39m(\u001b[39mf\u001b[39m\u001b[39m\"\u001b[39m\u001b[39mFeature batch shape: \u001b[39m\u001b[39m{\u001b[39;00mtrain_features\u001b[39m.\u001b[39msize()\u001b[39m}\u001b[39;00m\u001b[39m\"\u001b[39m)\n\u001b[1;32m      5\u001b[0m \u001b[39mprint\u001b[39m(\u001b[39mf\u001b[39m\u001b[39m\"\u001b[39m\u001b[39mLabels batch shape: \u001b[39m\u001b[39m{\u001b[39;00mtrain_labels\u001b[39m.\u001b[39msize()\u001b[39m}\u001b[39;00m\u001b[39m\"\u001b[39m)\n",
      "\u001b[0;31mValueError\u001b[0m: too many values to unpack (expected 2)"
     ]
    }
   ],
   "source": [
    "### Jamie trying to understand error here and in cell below ###\n",
    "\n",
    "print(len(train_loader))\n",
    "\n",
    "train_features, train_labels = next(iter(train_loader))\n",
    "print(f\"Feature batch shape: {train_features.size()}\")\n",
    "print(f\"Labels batch shape: {train_labels.size()}\")"
   ]
  },
  {
   "cell_type": "code",
   "execution_count": 29,
   "metadata": {},
   "outputs": [
    {
     "ename": "ValueError",
     "evalue": "too many values to unpack (expected 2)",
     "output_type": "error",
     "traceback": [
      "\u001b[0;31m---------------------------------------------------------------------------\u001b[0m",
      "\u001b[0;31mValueError\u001b[0m                                Traceback (most recent call last)",
      "Cell \u001b[0;32mIn[29], line 4\u001b[0m\n\u001b[1;32m      1\u001b[0m num_epochs \u001b[39m=\u001b[39m \u001b[39m2\u001b[39m\n\u001b[1;32m      3\u001b[0m \u001b[39mfor\u001b[39;00m epoch \u001b[39min\u001b[39;00m \u001b[39mrange\u001b[39m(num_epochs):\n\u001b[0;32m----> 4\u001b[0m    train_loss \u001b[39m=\u001b[39m train_epoch(vae,device,train_loader,optim)\n\u001b[1;32m      5\u001b[0m    val_loss \u001b[39m=\u001b[39m test_epoch(vae,device,valid_loader)\n\u001b[1;32m      6\u001b[0m    \u001b[39mprint\u001b[39m(\u001b[39m'\u001b[39m\u001b[39m\\n\u001b[39;00m\u001b[39m EPOCH \u001b[39m\u001b[39m{}\u001b[39;00m\u001b[39m/\u001b[39m\u001b[39m{}\u001b[39;00m\u001b[39m \u001b[39m\u001b[39m\\t\u001b[39;00m\u001b[39m train loss \u001b[39m\u001b[39m{:.3f}\u001b[39;00m\u001b[39m \u001b[39m\u001b[39m\\t\u001b[39;00m\u001b[39m val loss \u001b[39m\u001b[39m{:.3f}\u001b[39;00m\u001b[39m'\u001b[39m\u001b[39m.\u001b[39mformat(epoch \u001b[39m+\u001b[39m \u001b[39m1\u001b[39m, num_epochs,train_loss,val_loss))\n",
      "Cell \u001b[0;32mIn[25], line 8\u001b[0m, in \u001b[0;36mtrain_epoch\u001b[0;34m(vae, device, dataloader, optimizer)\u001b[0m\n\u001b[1;32m      6\u001b[0m train_loss \u001b[39m=\u001b[39m \u001b[39m0.0\u001b[39m\n\u001b[1;32m      7\u001b[0m \u001b[39m# Iterate the dataloader (we do not need the label values, this is unsupervised learning)\u001b[39;00m\n\u001b[0;32m----> 8\u001b[0m \u001b[39mfor\u001b[39;00m x, _ \u001b[39min\u001b[39;00m dataloader: \n\u001b[1;32m      9\u001b[0m     \u001b[39m# Move tensor to the proper device\u001b[39;00m\n\u001b[1;32m     10\u001b[0m     x \u001b[39m=\u001b[39m x\u001b[39m.\u001b[39mto(device)\n\u001b[1;32m     11\u001b[0m     x_hat \u001b[39m=\u001b[39m vae(x)\n",
      "\u001b[0;31mValueError\u001b[0m: too many values to unpack (expected 2)"
     ]
    }
   ],
   "source": [
    "num_epochs = 2\n",
    "\n",
    "for epoch in range(num_epochs):\n",
    "   train_loss = train_epoch(vae,device,train_loader,optim)\n",
    "   val_loss = test_epoch(vae,device,valid_loader)\n",
    "   print('\\n EPOCH {}/{} \\t train loss {:.3f} \\t val loss {:.3f}'.format(epoch + 1, num_epochs,train_loss,val_loss))\n",
    "   #plot_vae_outputs(vae.encoder,vae.decoder,n=10)"
   ]
  }
 ],
 "metadata": {
  "kernelspec": {
   "display_name": "Capstone",
   "language": "python",
   "name": "python3"
  },
  "language_info": {
   "codemirror_mode": {
    "name": "ipython",
    "version": 3
   },
   "file_extension": ".py",
   "mimetype": "text/x-python",
   "name": "python",
   "nbconvert_exporter": "python",
   "pygments_lexer": "ipython3",
   "version": "3.10.9"
  },
  "orig_nbformat": 4,
  "vscode": {
   "interpreter": {
    "hash": "d467eb264dce384a123ed7ad05b8cf8f39d9cb053c51b5bbedb9de71afc5f327"
   }
  }
 },
 "nbformat": 4,
 "nbformat_minor": 2
}
