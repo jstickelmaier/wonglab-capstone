{
 "cells": [
  {
   "cell_type": "code",
   "execution_count": 10,
   "metadata": {},
   "outputs": [],
   "source": [
    "parent_folder = 'C:/Users/Aidan/Documents/Winter_2023/BE177B/'\n",
    "imP = parent_folder+'Paper_Figures/PolKymo.png'\n",
    "imS = parent_folder+'Paper_Figures/SinKymo.png'\n",
    "imR = parent_folder+'Paper_Figures/RandKymo.png'"
   ]
  },
  {
   "cell_type": "code",
   "execution_count": 11,
   "metadata": {},
   "outputs": [],
   "source": [
    "import cv2\n",
    "import numpy as np"
   ]
  },
  {
   "cell_type": "code",
   "execution_count": 12,
   "metadata": {},
   "outputs": [],
   "source": [
    "def morph_it(im1, im2, frames, savename):\n",
    "    # Load the two images\n",
    "    img1 = cv2.imread(im1)\n",
    "    img2 = cv2.imread(im2)\n",
    "\n",
    "    # Define the number of intermediate frames\n",
    "    num_frames = frames\n",
    "\n",
    "    # Define the morphing points for each image\n",
    "    src_points = np.array([[0, 0], [0, img1.shape[0]], [img1.shape[1], img1.shape[0]], [img1.shape[1], 0]], dtype=np.float32)\n",
    "    int_points = np.array([[0, 0], [0, imgI.shape[0]], [imgI.shape[1], imgI.shape[0]], [imgI.shape[1], 0]], dtype=np.float32)\n",
    "    dst_points = np.array([[0, 0], [0, img2.shape[0]], [img2.shape[1], img2.shape[0]], [img2.shape[1], 0]], dtype=np.float32)\n",
    "\n",
    "    # Create a VideoWriter object to save the output\n",
    "    fourcc = cv2.VideoWriter_fourcc(*'mp4v')\n",
    "    output = cv2.VideoWriter(savename+'.mp4', fourcc, 30.0, (img1.shape[1], img1.shape[0]))\n",
    "\n",
    "    # Loop through each intermediate frame and morph between the two images\n",
    "    for i in range(0,num_frames):\n",
    "        # Calculate the intermediate points for the current frame\n",
    "        alpha = float(i) / (num_frames - 1)\n",
    "        points = (1 - alpha) * src_points + alpha * dst_points\n",
    "        \n",
    "        # Calculate the affine transform for the current frame\n",
    "        transform = cv2.getPerspectiveTransform(src_points, points)\n",
    "        \n",
    "        # Apply the transform to the first image\n",
    "        warped_img1 = cv2.warpPerspective(img1, transform, (img1.shape[1], img1.shape[0]))\n",
    "        \n",
    "        # Apply the transform to the second image\n",
    "        warped_img2 = cv2.warpPerspective(img2, transform, (img2.shape[1], img2.shape[0]))\n",
    "        \n",
    "        # Blend the two images using alpha blending\n",
    "        morphed_img = cv2.addWeighted(warped_img1, 1 - alpha, warped_img2, alpha, 0)\n",
    "        \n",
    "        # Write the current frame to the output\n",
    "        output.write(np.uint8(morphed_img))\n",
    "        \n",
    "        # Display the current frame\n",
    "        cv2.imshow('Morphing', morphed_img)\n",
    "        \n",
    "        # Wait for a key press\n",
    "        if cv2.waitKey(30) & 0xFF == ord('q'):\n",
    "            break\n",
    "\n",
    "    # Release the video writer and destroy the window\n",
    "    output.release()\n",
    "    cv2.destroyAllWindows()"
   ]
  },
  {
   "cell_type": "code",
   "execution_count": 13,
   "metadata": {},
   "outputs": [],
   "source": [
    "morph_it(imP, imS, 200, 'Polar_to_Sin')\n",
    "morph_it(imS, imP, 200, 'Sin_to_Polar')\n",
    "morph_it(imR, imS, 200, 'Rand_to_Sin')\n",
    "morph_it(imR, imP, 200, 'Rand_to_Polar')\n",
    "morph_it(imS, imR, 200, 'Sin_to_Rand')\n",
    "morph_it(imP, imR, 200, 'Polar_to_Rand')\n"
   ]
  },
  {
   "cell_type": "code",
   "execution_count": null,
   "metadata": {},
   "outputs": [],
   "source": []
  }
 ],
 "metadata": {
  "kernelspec": {
   "display_name": "base",
   "language": "python",
   "name": "python3"
  },
  "language_info": {
   "codemirror_mode": {
    "name": "ipython",
    "version": 3
   },
   "file_extension": ".py",
   "mimetype": "text/x-python",
   "name": "python",
   "nbconvert_exporter": "python",
   "pygments_lexer": "ipython3",
   "version": "3.9.13"
  },
  "orig_nbformat": 4,
  "vscode": {
   "interpreter": {
    "hash": "f6ed3f38b1ef4c16f8a5be48bf66a1aded4ea0eb199bbc31dab9e5edd4e77510"
   }
  }
 },
 "nbformat": 4,
 "nbformat_minor": 2
}
