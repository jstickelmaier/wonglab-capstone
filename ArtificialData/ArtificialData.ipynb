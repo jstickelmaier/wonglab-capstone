{
 "cells": [
  {
   "cell_type": "markdown",
   "id": "1b18ca2c",
   "metadata": {},
   "source": [
    "# Generate pre-labeled kymographs for testing VAE\n",
    "#### Capstone Group L\n",
    "\n",
    "Provides an interface for generating sample artificial kymographs and generating datasets of arbitrariy size, characteristics for training and validating VAE models."
   ]
  },
  {
   "cell_type": "code",
   "execution_count": 14,
   "id": "0f7dfc62",
   "metadata": {},
   "outputs": [],
   "source": [
    "#Required Packages\n",
    "import numpy as np\n",
    "from matplotlib import pyplot as plt\n",
    "import random\n",
    "from scipy.ndimage import convolve\n",
    "from ipywidgets import interact_manual\n",
    "import json\n",
    "from json import JSONEncoder\n",
    "import bson\n",
    "from PIL import Image\n",
    "import pandas as pd"
   ]
  },
  {
   "cell_type": "code",
   "execution_count": 15,
   "id": "136d7823",
   "metadata": {},
   "outputs": [],
   "source": [
    "#common variables\n",
    "pi = np.pi"
   ]
  },
  {
   "cell_type": "markdown",
   "id": "854f1aac",
   "metadata": {},
   "source": [
    "##  Interactive data widget"
   ]
  },
  {
   "cell_type": "code",
   "execution_count": 16,
   "id": "bd3cf6ce",
   "metadata": {},
   "outputs": [
    {
     "data": {
      "application/vnd.jupyter.widget-view+json": {
       "model_id": "43b028cb8d0145499d14201c236db736",
       "version_major": 2,
       "version_minor": 0
      },
      "text/plain": [
       "interactive(children=(Dropdown(description='style', options=('sin', 'polar', 'random', 'osc_rand'), value='sin…"
      ]
     },
     "metadata": {},
     "output_type": "display_data"
    }
   ],
   "source": [
    "@interact_manual\n",
    "\n",
    "def KymogenInteractive(style=[\"sin\",\"polar\",\"random\", \"osc_rand\"], height=(20, 200, 10), width=(60, 300, 20)):\n",
    "\n",
    "    \"\"\"Generates an artificial kymograph of given shape and dimensions. \"\"\"\n",
    "    \n",
    "    h,w = height, width\n",
    "    hscale = (h/100)\n",
    "    wscale = (w/200)\n",
    "\n",
    "    def sinkymo():\n",
    "        #Base assignments\n",
    "        domain = np.linspace(0,6*np.pi,w)\n",
    "        phase = (np.random.rand(1)*pi)\n",
    "        freq = (np.random.rand(1))\n",
    "        heatmap = np.random.normal(1,0.4,(h,w))\n",
    "        #heatmap = np.ones((h,w))\n",
    "\n",
    "        #callables\n",
    "        shiftsin = lambda t,phase,freq : 35*hscale*(np.sin(freq*t+phase))+50*hscale #base sin wave\n",
    "\n",
    "        #mid assigns\n",
    "        mapRange = np.array(shiftsin(domain,phase, freq))\n",
    "        normRange = (np.floor(mapRange))\n",
    "\n",
    "        for i in range(0,w):\n",
    "            if bool(random.getrandbits(1)):\n",
    "                for k in range(int(-9*hscale),int(10*hscale)):\n",
    "                    heatmap[int(normRange[i])+k,i] = 1+random.uniform(1, 2)-0.02*(i/(10*wscale))\n",
    "            else:\n",
    "                for k in range(int(-3*hscale),int(4*hscale)):\n",
    "                    heatmap[int(normRange[i])+k,i] = 1+random.uniform(0.5, 3)-0.03*(i/(10*wscale))\n",
    "\n",
    "        #plot smoothing\n",
    "        kernel_size = int(8*((hscale+wscale)/2))+2\n",
    "        kernel = np.ones((kernel_size,kernel_size))/ kernel_size\n",
    "        heatmap = convolve(heatmap, kernel)\n",
    "        heatmap = convolve(heatmap, kernel)\n",
    "        \n",
    "        return heatmap\n",
    "\n",
    "    def doublesinkymo():\n",
    "        #Base assignments\n",
    "        domain = np.linspace(0,6*np.pi,w)\n",
    "        phase = (np.random.rand(1)*pi)\n",
    "        freq = (np.random.rand(1))\n",
    "        heatmap = np.random.normal(1.5,1,(h,w))\n",
    "\n",
    "        #callables\n",
    "        shiftsin = lambda t,phase,freq : 35*hscale*(np.sin(freq*t+phase))+50*hscale #base sin wave\n",
    "\n",
    "        #mid assigns\n",
    "        mapRange = np.array(shiftsin(domain,phase, freq))\n",
    "        normRange = (np.floor(mapRange))\n",
    "\n",
    "        for i in range(0,w):\n",
    "            if bool(random.getrandbits(1)):\n",
    "                for k in range(int(-9*hscale),int(10*hscale)):\n",
    "                    heatmap[int(normRange[i])+k,i] = 1+random.uniform(1, 2)-0.02*(i/(10*wscale))\n",
    "                    heatmap[-(int(normRange[i])+k),-i] = 1+random.uniform(0, 1.1)-0.02*(i/(10*wscale))\n",
    "            else:\n",
    "                for k in range(int(-3*hscale),int(4*hscale)):\n",
    "                    heatmap[int(normRange[i])+k,i] = 1+random.uniform(0.5, 3)-0.03*(i/(10*wscale))\n",
    "                    heatmap[-(int(normRange[i])+k),-i] = 1+random.uniform(0.5, 2)-0.02*(i/(10*wscale))\n",
    "\n",
    "        #plot smoothing\n",
    "        kernel_size = int(8*((hscale+wscale)/2))+2\n",
    "        kernel = np.ones((kernel_size,kernel_size))/ kernel_size\n",
    "        heatmap = convolve(heatmap, kernel)\n",
    "        heatmap = convolve(heatmap, kernel)\n",
    "        \n",
    "        return heatmap\n",
    "    \n",
    "#TODO -- Scale factors for polkymo, randkymo\n",
    "\n",
    "    def polkymo():\n",
    "        domain = np.linspace(0,6*np.pi,w)\n",
    "        heatmap = np.random.normal(1,0.6,(h,w))\n",
    "        \n",
    "        for i in range(0,w):\n",
    "            if bool(random.getrandbits(1)):\n",
    "                for k in range(0,int(10*hscale)):\n",
    "                    heatmap[h-(k+1),i] = 1+random.uniform(1, 2)-0.02*(i/(10*wscale))\n",
    "            else:\n",
    "                for k in range(0,int(4*hscale)):\n",
    "                    heatmap[h-(k+1),i] = 1+random.uniform(0.5, 3)-0.03*(i/(10*wscale))\n",
    "                    \n",
    "        #plot smoothing\n",
    "        kernel_size = int(8*((hscale*wscale)/2))+2\n",
    "        kernel = np.ones((kernel_size,kernel_size))/ kernel_size\n",
    "        heatmap = convolve(heatmap, kernel)\n",
    "        heatmap = convolve(heatmap, kernel)\n",
    "      \n",
    "        return heatmap\n",
    "            \n",
    "    def randkymo():\n",
    "        domain = np.linspace(0,6*np.pi,w)\n",
    "        heatmap = np.random.normal(3,1.6,(h,w))\n",
    "        kernel_size = int(8*((hscale*wscale)/2))+2\n",
    "        kernel = np.ones((kernel_size,kernel_size))/ kernel_size\n",
    "        heatmap = convolve(heatmap, kernel)\n",
    "        heatmap = convolve(heatmap, kernel)\n",
    "        return heatmap\n",
    "        \n",
    "            \n",
    "    if style == \"sin\":\n",
    "        kymo = plt.imshow(sinkymo(), cmap='plasma', interpolation='nearest')\n",
    "    elif style == \"polar\":\n",
    "        kymo = plt.imshow(polkymo(), cmap='plasma', interpolation='nearest')\n",
    "    elif style == \"random\":\n",
    "        kymo = plt.imshow(randkymo(), cmap='plasma', interpolation='nearest')\n",
    "    elif style == \"osc_rand\":\n",
    "        kymo = plt.imshow(doublesinkymo(), cmap='plasma', interpolation='nearest')\n",
    "    else:\n",
    "        raise ValueError(\"'style' must be set to string 'sin', 'polar', or 'random'.\")\n",
    "    \n",
    "    plt.title(\"PlzC Kymograph Artificial Data - {}\".format(style))\n",
    "    plt.xlabel(\"Time (ms/2)\")\n",
    "    plt.ylabel(\"Axis Position\")\n",
    "    "
   ]
  },
  {
   "cell_type": "markdown",
   "id": "a217b226",
   "metadata": {},
   "source": [
    "#### Dataset Generator Functions"
   ]
  },
  {
   "cell_type": "code",
   "execution_count": 17,
   "id": "8412071e",
   "metadata": {},
   "outputs": [],
   "source": [
    "def KymogenGenerative(style=[\"sin\",\"polar\",\"random\"], height=(100, 1000, 50), width=(100, 1000, 50)):\n",
    "    \"\"\"Generates a matrix defining artifical kymograph. \"\"\"\n",
    "    \n",
    "    h,w = height, width\n",
    "    hscale = (h/100)\n",
    "    wscale = (w/200)\n",
    "\n",
    "    def sinkymo():\n",
    "        #Base assignments\n",
    "        domain = np.linspace(0,6*np.pi,w)\n",
    "        phase = (np.random.rand(1)*pi)\n",
    "        freq = (np.random.rand(1))\n",
    "        heatmap = np.random.normal(1,0.4,(h,w))\n",
    "        #heatmap = np.ones((h,w))\n",
    "\n",
    "        #callables\n",
    "        shiftsin = lambda t,phase,freq : 35*hscale*(np.sin(freq*t+phase))+50*hscale #base sin wave\n",
    "\n",
    "        #mid assigns\n",
    "        mapRange = np.array(shiftsin(domain,phase, freq))\n",
    "        normRange = (np.floor(mapRange))\n",
    "\n",
    "        for i in range(0,w):\n",
    "            if bool(random.getrandbits(1)):\n",
    "                for k in range(int(-9*hscale),int(10*hscale)):\n",
    "                    heatmap[int(normRange[i])+k,i] = 1+random.uniform(1, 2)-0.02*(i/(10*wscale))\n",
    "            else:\n",
    "                for k in range(int(-3*hscale),int(4*hscale)):\n",
    "                    heatmap[int(normRange[i])+k,i] = 1+random.uniform(0.5, 3)-0.03*(i/(10*wscale))\n",
    "\n",
    "        #plot smoothing\n",
    "        kernel_size = int(8*((hscale+wscale)/2))+2\n",
    "        kernel = np.ones((kernel_size,kernel_size))/ kernel_size\n",
    "        heatmap = convolve(heatmap, kernel)\n",
    "        heatmap = convolve(heatmap, kernel)\n",
    "        \n",
    "        return heatmap\n",
    "\n",
    "    def polkymo():\n",
    "        domain = np.linspace(0,6*np.pi,w)\n",
    "        heatmap = np.random.normal(1,0.6,(h,w))\n",
    "        \n",
    "        for i in range(0,w):\n",
    "            if bool(random.getrandbits(1)):\n",
    "                for k in range(0,int(10*hscale)):\n",
    "                    heatmap[h-(k+1),i] = 1+random.uniform(1, 2)-0.02*(i/(10*wscale))\n",
    "            else:\n",
    "                for k in range(0,int(4*hscale)):\n",
    "                    heatmap[h-(k+1),i] = 1+random.uniform(0.5, 3)-0.03*(i/(10*wscale))\n",
    "                    \n",
    "        #plot smoothing\n",
    "        kernel_size = int(8*((hscale*wscale)/2))+2\n",
    "        kernel = np.ones((kernel_size,kernel_size))/ kernel_size\n",
    "        heatmap = convolve(heatmap, kernel)\n",
    "        heatmap = convolve(heatmap, kernel)\n",
    "      \n",
    "        return heatmap\n",
    "            \n",
    "    def randkymo():\n",
    "        domain = np.linspace(0,6*np.pi,w)\n",
    "        heatmap = np.random.normal(3,1.6,(h,w))\n",
    "        kernel_size = int(8*((hscale*wscale)/2))+2\n",
    "        kernel = np.ones((kernel_size,kernel_size))/ kernel_size\n",
    "        heatmap = convolve(heatmap, kernel)\n",
    "        heatmap = convolve(heatmap, kernel)\n",
    "        return heatmap\n",
    "        \n",
    "            \n",
    "    if style == \"sin\":\n",
    "        return sinkymo()\n",
    "    elif style == \"polar\":\n",
    "        return polkymo()\n",
    "    elif style == \"random\":\n",
    "        return randkymo()\n",
    "    else:\n",
    "        raise ValueError(\"'style' must be set to string 'sin', 'polar', or 'random'.\")"
   ]
  },
  {
   "cell_type": "code",
   "execution_count": 18,
   "id": "95969f35",
   "metadata": {},
   "outputs": [],
   "source": [
    "def LABEL_KymogenGenerative(style=[\"sin\",\"polar\",\"random\"], height=(100, 1000, 50), width=(100, 1000, 50)):\n",
    "    \"\"\"\n",
    "    Generates a key-value pair consiting of plot style and matrix defining artifical kymograph.\n",
    "    \"\"\"\n",
    "    \n",
    "    h,w = height, width\n",
    "    hscale = (h/100)\n",
    "    wscale = (w/200)\n",
    "\n",
    "    def sinkymo():\n",
    "        #Base assignments\n",
    "        domain = np.linspace(0,6*np.pi,w)\n",
    "        phase = (np.random.rand(1)*pi)\n",
    "        freq = (np.random.rand(1))\n",
    "        heatmap = np.random.normal(1,0.4,(h,w))\n",
    "        #heatmap = np.ones((h,w))\n",
    "\n",
    "        #callables\n",
    "        shiftsin = lambda t,phase,freq : 35*hscale*(np.sin(freq*t+phase))+50*hscale #base sin wave\n",
    "\n",
    "        #mid assigns\n",
    "        mapRange = np.array(shiftsin(domain,phase, freq))\n",
    "        normRange = (np.floor(mapRange))\n",
    "\n",
    "        for i in range(0,w):\n",
    "            if bool(random.getrandbits(1)):\n",
    "                for k in range(int(-9*hscale),int(10*hscale)):\n",
    "                    heatmap[int(normRange[i])+k,i] = 1+random.uniform(1, 2)-0.02*(i/(10*wscale))\n",
    "            else:\n",
    "                for k in range(int(-3*hscale),int(4*hscale)):\n",
    "                    heatmap[int(normRange[i])+k,i] = 1+random.uniform(0.5, 3)-0.03*(i/(10*wscale))\n",
    "\n",
    "        #plot smoothing\n",
    "        kernel_size = int(8*((hscale+wscale)/2))+2\n",
    "        kernel = np.ones((kernel_size,kernel_size))/ kernel_size\n",
    "        heatmap = convolve(heatmap, kernel)\n",
    "        heatmap = convolve(heatmap, kernel)\n",
    "        return {\"sin\": heatmap}\n",
    "\n",
    "    def polkymo():\n",
    "        domain = np.linspace(0,6*np.pi,w)\n",
    "        heatmap = np.random.normal(1,0.6,(h,w))\n",
    "        \n",
    "        for i in range(0,w):\n",
    "            if bool(random.getrandbits(1)):\n",
    "                for k in range(0,int(10*hscale)):\n",
    "                    heatmap[h-(k+1),i] = 1+random.uniform(1, 2)-0.02*(i/(10*wscale))\n",
    "            else:\n",
    "                for k in range(0,int(4*hscale)):\n",
    "                    heatmap[h-(k+1),i] = 1+random.uniform(0.5, 3)-0.03*(i/(10*wscale))\n",
    "                    \n",
    "        #plot smoothing\n",
    "        kernel_size = int(8*((hscale*wscale)/2))+2\n",
    "        kernel = np.ones((kernel_size,kernel_size))/ kernel_size\n",
    "        heatmap = convolve(heatmap, kernel)\n",
    "        heatmap = convolve(heatmap, kernel)\n",
    "      \n",
    "        return {\"pol\": heatmap}\n",
    "            \n",
    "    def randkymo():\n",
    "        domain = np.linspace(0,6*np.pi,w)\n",
    "        heatmap = np.random.normal(3,1.6,(h,w))\n",
    "        kernel_size = int(8*((hscale*wscale)/2))+2\n",
    "        kernel = np.ones((kernel_size,kernel_size))/ kernel_size\n",
    "        heatmap = convolve(heatmap, kernel)\n",
    "        heatmap = convolve(heatmap, kernel)\n",
    "\n",
    "        return {\"rnd\": heatmap}\n",
    "        \n",
    "            \n",
    "    if style == \"sin\":\n",
    "        return sinkymo()\n",
    "    elif style == \"polar\":\n",
    "        return polkymo()\n",
    "    elif style == \"random\":\n",
    "        return randkymo()\n",
    "    else:\n",
    "        raise ValueError(\"'style' must be set to string 'sin', 'polar', or 'random'.\")"
   ]
  },
  {
   "cell_type": "code",
   "execution_count": 19,
   "id": "320f5c38",
   "metadata": {},
   "outputs": [
    {
     "name": "stdout",
     "output_type": "stream",
     "text": [
      "[[11.3534026  11.63866126 12.03088352 ... 15.27256425 14.90203629\n",
      "  14.79501963]\n",
      " [11.99174103 12.11661594 12.34095071 ... 14.76370551 14.52299508\n",
      "  14.55970631]\n",
      " [13.13733321 13.04228215 13.00254386 ... 14.73822431 14.76676965\n",
      "  14.9718584 ]\n",
      " ...\n",
      " [19.26123352 17.63380263 15.93534578 ... 15.28188155 15.63234563\n",
      "  15.7873165 ]\n",
      " [19.33567233 17.35865875 15.45184864 ... 16.24985735 16.41991484\n",
      "  16.50458879]\n",
      " [19.1519686  17.12702526 15.26633226 ... 16.25020093 16.34284737\n",
      "  16.37399567]]\n"
     ]
    }
   ],
   "source": [
    "#how to access labeled kymos...\n",
    "hm = LABEL_KymogenGenerative(style=\"sin\", height=20, width=60)\n",
    "print(hm[list(hm.keys())[0]])"
   ]
  },
  {
   "cell_type": "code",
   "execution_count": 20,
   "id": "930f0a13",
   "metadata": {},
   "outputs": [],
   "source": [
    "def sampleGenerator(n, h, w, forms = ['sin','polar','random'], labeled = False):\n",
    "\n",
    "    \"\"\"Generates artificial dataset with n size hxw kymographs of each form specified\"\"\"\n",
    "\n",
    "    sampleSize = [n*len(forms),h,w]\n",
    "    sample = np.zeros(sampleSize)\n",
    "    j = 0\n",
    "\n",
    "    for i in range(len(forms)*n): #0:2\n",
    "        sample[i,:,:] = KymogenGenerative(style = forms[j], height=h, width=w)\n",
    "        if (i > 1 and int(i%100) == 0):\n",
    "            j = j+1\n",
    "            \n",
    "    return sample"
   ]
  },
  {
   "cell_type": "markdown",
   "id": "c0eee396",
   "metadata": {},
   "source": [
    "#### Encoder\n",
    "\n",
    "Although data from DotsWorkflow is BSON I couldn't figure out how to make a BSON encoder so just used JSON. Some examples of how to label, encode, and decode the dataset are shown. Note that the IDs of the kymographs are the first two dimensions of the array, while the kymograph itself occupies the remaining dimensions."
   ]
  },
  {
   "cell_type": "code",
   "execution_count": 21,
   "id": "2d1e398c",
   "metadata": {},
   "outputs": [],
   "source": [
    "#Custom JSON encoder for numpy tensors\n",
    "class NumpyTensor(JSONEncoder):\n",
    "    def default(self, obj):\n",
    "        if isinstance(obj, np.ndarray):\n",
    "            return obj.tolist()\n",
    "        return JSONEncoder.default(self, obj)"
   ]
  },
  {
   "cell_type": "code",
   "execution_count": 22,
   "id": "d6768df3",
   "metadata": {},
   "outputs": [],
   "source": [
    "#Custom BSON encoder for numpy tensors\n",
    "\n",
    "class NumpyTensorBSON:\n",
    "    def __init__(self, **kwargs):\n",
    "        self.kwargs = kwargs\n",
    "\n",
    "    def default(self, obj):\n",
    "        if isinstance(obj, np.ndarray):\n",
    "            return bson.binary.Binary(obj.tobytes(), **self.kwargs)\n",
    "        return obj\n",
    "\n",
    "def bson_numpy_dumps(obj):\n",
    "    return bson.dumps(obj, default=NumpyTensorBSON().default)\n",
    "\n",
    "def bson_numpy_loads(bson_data):\n",
    "    return bson.loads(bson_data)"
   ]
  },
  {
   "attachments": {},
   "cell_type": "markdown",
   "id": "d1a10d00",
   "metadata": {},
   "source": [
    "## IMPORTANT: The cell below generates the artificial data actually used in the model training BUT you still have to save to local"
   ]
  },
  {
   "cell_type": "code",
   "execution_count": 23,
   "id": "0fbb2509",
   "metadata": {},
   "outputs": [],
   "source": [
    "#JSON encoding process\n",
    "kymoset = sampleGenerator(100,20,60,forms=['sin','polar','random'])\n",
    "kymoset_data = {\"kymoset\": kymoset}\n",
    "kymoset_JSON = json.dumps(kymoset_data, cls=NumpyTensor)"
   ]
  },
  {
   "cell_type": "code",
   "execution_count": 24,
   "id": "e2f6fb52",
   "metadata": {},
   "outputs": [],
   "source": [
    "#Example encoding process (BSON)\n",
    "# kymoset = sampleGenerator(50,20,60,forms=['sin','polar','random'])\n",
    "# kymoset_data = {\"kymoset\": kymoset}\n",
    "# kymoset_BSON = bson.dumps(kymoset_data, cls=NumpyTensorBSON)"
   ]
  },
  {
   "cell_type": "code",
   "execution_count": 25,
   "id": "f0eeb7c3",
   "metadata": {},
   "outputs": [
    {
     "data": {
      "text/plain": [
       "<matplotlib.image.AxesImage at 0x24b4fe9e580>"
      ]
     },
     "execution_count": 25,
     "metadata": {},
     "output_type": "execute_result"
    },
    {
     "data": {
      "image/png": "[encoded data removed]",
      "text/plain": [
       "<Figure size 640x480 with 2 Axes>"
      ]
     },
     "metadata": {},
     "output_type": "display_data"
    }
   ],
   "source": [
    "#Example decoding process (probably not necessary with pytorch dataloader) and demo of storage indicies\n",
    "decoded_kymo = np.asarray(json.loads(kymoset_JSON)[\"kymoset\"])\n",
    "plt.subplot(1,2,1)\n",
    "plt.imshow(decoded_kymo[0,:,:], cmap='plasma', interpolation='nearest')\n",
    "plt.subplot(1,2,2)\n",
    "plt.imshow(decoded_kymo[101,:,:], cmap='plasma', interpolation='nearest')"
   ]
  },
  {
   "cell_type": "code",
   "execution_count": 33,
   "id": "eb130520",
   "metadata": {},
   "outputs": [
    {
     "data": {
      "text/plain": [
       "<matplotlib.image.AxesImage at 0x24b4cd2b790>"
      ]
     },
     "execution_count": 33,
     "metadata": {},
     "output_type": "execute_result"
    },
    {
     "data": {
      "image/png": "[encoded data removed]",
      "text/plain": [
       "<Figure size 1000x2000 with 1 Axes>"
      ]
     },
     "metadata": {},
     "output_type": "display_data"
    }
   ],
   "source": [
    "plt.figure(figsize=(10,20))\n",
    "plt.imshow(decoded_kymo[14,:,:], cmap='plasma', interpolation='nearest')"
   ]
  },
  {
   "cell_type": "code",
   "execution_count": null,
   "id": "a9574f8a",
   "metadata": {},
   "outputs": [],
   "source": [
    "#Example dump to a file in local system\n",
    "datafolder = \"C:/Users/Aidan/Documents/Winter_2023/BE177B/Code/wonglab-capstone/Datateam/Artificial_imset\"\n",
    "with open(datafolder+'/artificial_kymographs.json', 'w') as f:\n",
    "  json.dump(kymoset_data, f, ensure_ascii=False, cls=NumpyTensor)"
   ]
  },
  {
   "cell_type": "code",
   "execution_count": null,
   "id": "85af8b05",
   "metadata": {},
   "outputs": [],
   "source": [
    "#Generate a set of images similar to the experimental\n",
    "\n",
    "#Normalizes from 0, 1 - preserving contrast\n",
    "def scaler(imgArray):\n",
    "    minVal = np.min(imgArray)\n",
    "    imgArray = np.subtract(imgArray, minVal)\n",
    "    maxVal = np.max(imgArray)\n",
    "    imgArray = np.multiply(imgArray, (256/maxVal))\n",
    "\n",
    "    return imgArray\n",
    "\n",
    "\n",
    "def KymoIMGGenerator(n, h, w, datafolder, forms = ['sin','polar','random']):\n",
    "\n",
    "    \"\"\"Generates artificial dataset with n size hxw kymographs of each form specified and saves as Images in specified folder\"\"\"\n",
    "\n",
    "    write = datafolder\n",
    "    paths = []\n",
    "\n",
    "    for i in range(len(forms)): #0:2\n",
    "        for j in range(n):\n",
    "            imgName = forms[i]+str(j)+\".png\"\n",
    "            img = Image.fromarray(scaler(KymogenGenerative(style = forms[i], height=h, width=w)))\n",
    "            img = img.convert('RGB')\n",
    "            img.save(datafolder+\"/Artificial_imset/\"+imgName)\n",
    "            paths += [datafolder+\"/Artificial_imset/\"+imgName]\n",
    "    \n",
    "    df = pd.DataFrame(paths)\n",
    "    df.to_csv(datafolder+\"ArtificialImgPaths.csv\", sep=',',index=False)\n",
    "    return(None)\n"
   ]
  },
  {
   "cell_type": "code",
   "execution_count": null,
   "id": "800219cd",
   "metadata": {},
   "outputs": [
    {
     "ename": "FileNotFoundError",
     "evalue": "[Errno 2] No such file or directory: './wonglab-capstone/Datateam//Artificial_imset/sin0.png'",
     "output_type": "error",
     "traceback": [
      "\u001b[1;31m---------------------------------------------------------------------------\u001b[0m",
      "\u001b[1;31mFileNotFoundError\u001b[0m                         Traceback (most recent call last)",
      "\u001b[1;32m~\\AppData\\Local\\Temp\\ipykernel_24564\\180498427.py\u001b[0m in \u001b[0;36m<module>\u001b[1;34m\u001b[0m\n\u001b[0;32m      1\u001b[0m \u001b[0mdatafolder\u001b[0m \u001b[1;33m=\u001b[0m \u001b[1;34mr'./wonglab-capstone/Datateam/'\u001b[0m\u001b[1;33m\u001b[0m\u001b[1;33m\u001b[0m\u001b[0m\n\u001b[0;32m      2\u001b[0m \u001b[1;33m\u001b[0m\u001b[0m\n\u001b[1;32m----> 3\u001b[1;33m \u001b[0mKymoIMGGenerator\u001b[0m\u001b[1;33m(\u001b[0m\u001b[1;36m100\u001b[0m\u001b[1;33m,\u001b[0m \u001b[1;36m20\u001b[0m\u001b[1;33m,\u001b[0m \u001b[1;36m60\u001b[0m\u001b[1;33m,\u001b[0m \u001b[0mdatafolder\u001b[0m\u001b[1;33m=\u001b[0m\u001b[0mdatafolder\u001b[0m\u001b[1;33m)\u001b[0m\u001b[1;33m\u001b[0m\u001b[1;33m\u001b[0m\u001b[0m\n\u001b[0m",
      "\u001b[1;32m~\\AppData\\Local\\Temp\\ipykernel_24564\\548456056.py\u001b[0m in \u001b[0;36mKymoIMGGenerator\u001b[1;34m(n, h, w, datafolder, forms)\u001b[0m\n\u001b[0;32m     23\u001b[0m             \u001b[0mimg\u001b[0m \u001b[1;33m=\u001b[0m \u001b[0mImage\u001b[0m\u001b[1;33m.\u001b[0m\u001b[0mfromarray\u001b[0m\u001b[1;33m(\u001b[0m\u001b[0mscaler\u001b[0m\u001b[1;33m(\u001b[0m\u001b[0mKymogenGenerative\u001b[0m\u001b[1;33m(\u001b[0m\u001b[0mstyle\u001b[0m \u001b[1;33m=\u001b[0m \u001b[0mforms\u001b[0m\u001b[1;33m[\u001b[0m\u001b[0mi\u001b[0m\u001b[1;33m]\u001b[0m\u001b[1;33m,\u001b[0m \u001b[0mheight\u001b[0m\u001b[1;33m=\u001b[0m\u001b[0mh\u001b[0m\u001b[1;33m,\u001b[0m \u001b[0mwidth\u001b[0m\u001b[1;33m=\u001b[0m\u001b[0mw\u001b[0m\u001b[1;33m)\u001b[0m\u001b[1;33m)\u001b[0m\u001b[1;33m)\u001b[0m\u001b[1;33m\u001b[0m\u001b[1;33m\u001b[0m\u001b[0m\n\u001b[0;32m     24\u001b[0m             \u001b[0mimg\u001b[0m \u001b[1;33m=\u001b[0m \u001b[0mimg\u001b[0m\u001b[1;33m.\u001b[0m\u001b[0mconvert\u001b[0m\u001b[1;33m(\u001b[0m\u001b[1;34m'RGB'\u001b[0m\u001b[1;33m)\u001b[0m\u001b[1;33m\u001b[0m\u001b[1;33m\u001b[0m\u001b[0m\n\u001b[1;32m---> 25\u001b[1;33m             \u001b[0mimg\u001b[0m\u001b[1;33m.\u001b[0m\u001b[0msave\u001b[0m\u001b[1;33m(\u001b[0m\u001b[0mdatafolder\u001b[0m\u001b[1;33m+\u001b[0m\u001b[1;34m\"/Artificial_imset/\"\u001b[0m\u001b[1;33m+\u001b[0m\u001b[0mimgName\u001b[0m\u001b[1;33m)\u001b[0m\u001b[1;33m\u001b[0m\u001b[1;33m\u001b[0m\u001b[0m\n\u001b[0m\u001b[0;32m     26\u001b[0m             \u001b[0mpaths\u001b[0m \u001b[1;33m+=\u001b[0m \u001b[1;33m[\u001b[0m\u001b[0mdatafolder\u001b[0m\u001b[1;33m+\u001b[0m\u001b[1;34m\"/Artificial_imset/\"\u001b[0m\u001b[1;33m+\u001b[0m\u001b[0mimgName\u001b[0m\u001b[1;33m]\u001b[0m\u001b[1;33m\u001b[0m\u001b[1;33m\u001b[0m\u001b[0m\n\u001b[0;32m     27\u001b[0m \u001b[1;33m\u001b[0m\u001b[0m\n",
      "\u001b[1;32mc:\\Users\\Aidan\\anaconda3\\lib\\site-packages\\PIL\\Image.py\u001b[0m in \u001b[0;36msave\u001b[1;34m(self, fp, format, **params)\u001b[0m\n\u001b[0;32m   2315\u001b[0m                 \u001b[0mfp\u001b[0m \u001b[1;33m=\u001b[0m \u001b[0mbuiltins\u001b[0m\u001b[1;33m.\u001b[0m\u001b[0mopen\u001b[0m\u001b[1;33m(\u001b[0m\u001b[0mfilename\u001b[0m\u001b[1;33m,\u001b[0m \u001b[1;34m\"r+b\"\u001b[0m\u001b[1;33m)\u001b[0m\u001b[1;33m\u001b[0m\u001b[1;33m\u001b[0m\u001b[0m\n\u001b[0;32m   2316\u001b[0m             \u001b[1;32melse\u001b[0m\u001b[1;33m:\u001b[0m\u001b[1;33m\u001b[0m\u001b[1;33m\u001b[0m\u001b[0m\n\u001b[1;32m-> 2317\u001b[1;33m                 \u001b[0mfp\u001b[0m \u001b[1;33m=\u001b[0m \u001b[0mbuiltins\u001b[0m\u001b[1;33m.\u001b[0m\u001b[0mopen\u001b[0m\u001b[1;33m(\u001b[0m\u001b[0mfilename\u001b[0m\u001b[1;33m,\u001b[0m \u001b[1;34m\"w+b\"\u001b[0m\u001b[1;33m)\u001b[0m\u001b[1;33m\u001b[0m\u001b[1;33m\u001b[0m\u001b[0m\n\u001b[0m\u001b[0;32m   2318\u001b[0m \u001b[1;33m\u001b[0m\u001b[0m\n\u001b[0;32m   2319\u001b[0m         \u001b[1;32mtry\u001b[0m\u001b[1;33m:\u001b[0m\u001b[1;33m\u001b[0m\u001b[1;33m\u001b[0m\u001b[0m\n",
      "\u001b[1;31mFileNotFoundError\u001b[0m: [Errno 2] No such file or directory: './wonglab-capstone/Datateam//Artificial_imset/sin0.png'"
     ]
    }
   ],
   "source": [
    "datafolder = r'C:/Users/Aidan/Documents/Winter_2023/BE177B/Code/wonglab-capstone/Datateam/'\n",
    "\n",
    "KymoIMGGenerator(100, 20, 60, datafolder=datafolder)"
   ]
  },
  {
   "cell_type": "code",
   "execution_count": null,
   "id": "b837803a",
   "metadata": {},
   "outputs": [],
   "source": []
  }
 ],
 "metadata": {
  "kernelspec": {
   "display_name": "Python 3 (ipykernel)",
   "language": "python",
   "name": "python3"
  },
  "language_info": {
   "codemirror_mode": {
    "name": "ipython",
    "version": 3
   },
   "file_extension": ".py",
   "mimetype": "text/x-python",
   "name": "python",
   "nbconvert_exporter": "python",
   "pygments_lexer": "ipython3",
   "version": "3.9.13"
  },
  "vscode": {
   "interpreter": {
    "hash": "f6ed3f38b1ef4c16f8a5be48bf66a1aded4ea0eb199bbc31dab9e5edd4e77510"
   }
  }
 },
 "nbformat": 4,
 "nbformat_minor": 5
}
