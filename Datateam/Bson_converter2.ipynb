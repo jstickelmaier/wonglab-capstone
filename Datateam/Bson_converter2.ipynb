{
 "cells": [
  {
   "attachments": {},
   "cell_type": "markdown",
   "metadata": {},
   "source": [
    "# Julia BSON parsing..."
   ]
  },
  {
   "cell_type": "code",
   "execution_count": 53,
   "metadata": {},
   "outputs": [],
   "source": [
    "using BSON\n",
    "using Images"
   ]
  },
  {
   "cell_type": "code",
   "execution_count": 54,
   "metadata": {},
   "outputs": [
    {
     "data": {
      "text/plain": [
       "scaler (generic function with 1 method)"
      ]
     },
     "metadata": {},
     "output_type": "display_data"
    }
   ],
   "source": [
    "# Native image scaling is super ass, this preserves more detail\n",
    "function scaler(imgArray)\n",
    "    minVal = minimum(imgArray)\n",
    "    imgArray = (imgArray .- minVal)\n",
    "    maxVal = maximum(imgArray)\n",
    "    imgArray = imgArray .* (1/maxVal)\n",
    "\n",
    "    return transpose(imgArray)\n",
    "end"
   ]
  },
  {
   "cell_type": "code",
   "execution_count": 55,
   "metadata": {},
   "outputs": [],
   "source": [
    "#load the BSON file from DataTeam\n",
    "datapath = \"C:/Users/Aidan/Documents/Winter_2023/BE177B/Code/wonglab-capstone/Datateam/training_set_1.bson\" #path to BSON file\n",
    "savepath = \"C:/Users/Aidan/Documents/Winter_2023/BE177B/Code/wonglab-capstone/Datateam/imset1/\" #replace with where u want images to go\n",
    "data = (; BSON.load(datapath)...)\n",
    "dataArray = data[:aidanwhyyyy];"
   ]
  },
  {
   "cell_type": "code",
   "execution_count": 62,
   "metadata": {},
   "outputs": [],
   "source": [
    "# Save each as .png file to feed to dataloader\n",
    "for i in range(1,(size(dataArray,1)))\n",
    "    name = \"train\"*string(i)*\".png\"\n",
    "    save(savepath*name, scaler(dataArray[i,:,:]))\n",
    "end"
   ]
  }
 ],
 "metadata": {
  "kernelspec": {
   "display_name": "Julia 1.8.1",
   "language": "julia",
   "name": "julia-1.8"
  },
  "language_info": {
   "file_extension": ".jl",
   "mimetype": "application/julia",
   "name": "julia",
   "version": "1.8.1"
  },
  "orig_nbformat": 4
 },
 "nbformat": 4,
 "nbformat_minor": 2
}
