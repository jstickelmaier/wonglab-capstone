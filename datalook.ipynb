{
 "cells": [
  {
   "cell_type": "code",
   "execution_count": 36,
   "metadata": {},
   "outputs": [],
   "source": [
    "import numpy as np\n",
    "from torch.utils.data import Dataset, DataLoader\n",
    "import json\n",
    "import torch\n"
   ]
  },
  {
   "cell_type": "code",
   "execution_count": 37,
   "metadata": {},
   "outputs": [],
   "source": [
    "parent_folder = 'C:/Users/Aidan/Documents/Winter_2023/BE177B/Code/'\n",
    "parent_folder1 = '/Users/jamiestickelmaier/Documents/Capstone/' \n",
    "art_json = parent_folder + 'wonglab-capstone/Datateam/Artificial_imset/artificial_kymographs.json'\n",
    "exp_json = parent_folder + 'wonglab-capstone/Datateam/imset1/experimental_kymograph.json'\n",
    "models_folder = parent_folder + 'wonglab-capstone/DotsTorch/Trained_models/'"
   ]
  },
  {
   "cell_type": "code",
   "execution_count": 38,
   "metadata": {},
   "outputs": [],
   "source": [
    "\n",
    "class ExpKymoDataset(Dataset):\n",
    "    def __init__(self):\n",
    "        #data loading\n",
    "        with open(exp_json, 'r') as f:\n",
    "            kymos = np.asarray(json.loads(f.read()))\n",
    "        kymos = kymos.astype('float32')\n",
    "        self.x = torch.from_numpy(kymos)\n",
    "        self.n_samples = kymos.shape[2]\n",
    "\n",
    "    def __getitem__(self, index):\n",
    "        return self.x[:,:,index]\n",
    "\n",
    "    def __len__(self):\n",
    "        return self.n_samples\n",
    "    \n",
    "class ArtKymoDataset(Dataset):\n",
    "    def __init__(self):\n",
    "        #data loading\n",
    "        with open(art_json, 'r') as f:\n",
    "            kymos = np.asarray(json.loads(f.read())[\"kymoset\"])\n",
    "        kymos = kymos.astype('float32')\n",
    "        kymos = torch.from_numpy(kymos)\n",
    "        # self.x = kymos[:,None,:,:]\n",
    "        self.x = kymos\n",
    "        self.x = self.x[:,None,:,:]\n",
    "        self.n_samples = kymos.shape[0]\n",
    "\n",
    "    def __getitem__(self, index):\n",
    "        return self.x[index,:,:]\n",
    "\n",
    "    def __len__(self):\n",
    "        return self.n_samples"
   ]
  },
  {
   "cell_type": "code",
   "execution_count": 39,
   "metadata": {},
   "outputs": [],
   "source": [
    "exp_data = ExpKymoDataset()\n",
    "art_data = ArtKymoDataset()"
   ]
  },
  {
   "cell_type": "code",
   "execution_count": 40,
   "metadata": {},
   "outputs": [
    {
     "name": "stdout",
     "output_type": "stream",
     "text": [
      "[tensor(1.0681), tensor(10.3486)]\n"
     ]
    }
   ],
   "source": [
    "print([torch.min(art_data[101]), torch.max(art_data[101])])"
   ]
  },
  {
   "cell_type": "code",
   "execution_count": 41,
   "metadata": {},
   "outputs": [
    {
     "name": "stdout",
     "output_type": "stream",
     "text": [
      "[tensor(-0.1182), tensor(0.0871)]\n"
     ]
    }
   ],
   "source": [
    "print([torch.min(exp_data[101]), torch.max(exp_data[101])])"
   ]
  },
  {
   "cell_type": "code",
   "execution_count": null,
   "metadata": {},
   "outputs": [],
   "source": []
  }
 ],
 "metadata": {
  "kernelspec": {
   "display_name": "base",
   "language": "python",
   "name": "python3"
  },
  "language_info": {
   "codemirror_mode": {
    "name": "ipython",
    "version": 3
   },
   "file_extension": ".py",
   "mimetype": "text/x-python",
   "name": "python",
   "nbconvert_exporter": "python",
   "pygments_lexer": "ipython3",
   "version": "3.9.13"
  },
  "orig_nbformat": 4,
  "vscode": {
   "interpreter": {
    "hash": "f6ed3f38b1ef4c16f8a5be48bf66a1aded4ea0eb199bbc31dab9e5edd4e77510"
   }
  }
 },
 "nbformat": 4,
 "nbformat_minor": 2
}
